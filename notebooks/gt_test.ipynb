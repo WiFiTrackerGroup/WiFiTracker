{
 "cells": [
  {
   "cell_type": "code",
   "execution_count": 4,
   "metadata": {},
   "outputs": [],
   "source": [
    "import pandas as pd\n",
    "import os"
   ]
  },
  {
   "cell_type": "code",
   "execution_count": 34,
   "metadata": {},
   "outputs": [],
   "source": [
    "def room_division(dataRoom):\n",
    "    \"\"\"\n",
    "    room_division\n",
    "    -------------\n",
    "    take all the data and divide the rooms of all PoliTo\n",
    "    ### Output:\n",
    "        - the dataframe with the room divided\n",
    "    \"\"\"\n",
    "    Ap = \"AP-AULA\"\n",
    "    dataRoom = dataRoom[dataRoom[\"name_ap\"].str.contains(Ap)]\n",
    "    rooms = pd.DataFrame()\n",
    "    rooms[[\"AP\", \"Room\", \"APnum\", \"NaN\"]] = dataRoom[\"name_ap\"].str.split(\n",
    "        \"-\", expand=True\n",
    "    )\n",
    "    dataRoom = pd.concat([dataRoom, rooms], axis=1)\n",
    "    return dataRoom"
   ]
  },
  {
   "cell_type": "code",
   "execution_count": 53,
   "metadata": {},
   "outputs": [
    {
     "name": "stdout",
     "output_type": "stream",
     "text": [
      "Number SNMP: 14 Number GT: 15\n",
      "Number SNMP: 14 Number GT: 15\n",
      "Number SNMP: 16 Number GT: 16\n",
      "Number SNMP: 17 Number GT: 16\n",
      "Number SNMP: 17 Number GT: 15\n",
      "Number SNMP: 15 Number GT: 15\n",
      "Number SNMP: 14 Number GT: 15\n",
      "Number SNMP: 15 Number GT: 15\n",
      "Number SNMP: 16 Number GT: 17\n",
      "Number SNMP: 16 Number GT: 17\n",
      "Number SNMP: 15 Number GT: 17\n",
      "Number SNMP: 15 Number GT: 17\n",
      "File finished\n"
     ]
    }
   ],
   "source": [
    "path = \"data/\"\n",
    "x = 20\n",
    "err = []\n",
    "try:\n",
    "    for i, file in enumerate(os.listdir(path)):\n",
    "        df = pd.read_csv(path+file)\n",
    "        date, month, year, hour, min, room, gt= file.split(\"_\")\n",
    "        gt, csv = gt.split(\".\")\n",
    "        df = room_division(df)\n",
    "        app = []\n",
    "        app.append(room.upper())\n",
    "        df = df[df[\"Room\"].isin(app)].reset_index()\n",
    "        df = df.drop_duplicates(subset=[\"user_masked\"])\n",
    "        df = df[df['snr']>x]\n",
    "        df = df[df['class'] != 'Unknown']\n",
    "        count = df['MAC_masked'].count()\n",
    "        print(f\"Number SNMP: {count} Number GT: {gt}\")\n",
    "        er = abs(count-int(gt))*100/count\n",
    "        err.append(er)\n",
    "except:\n",
    "    print(\"File finished\")"
   ]
  },
  {
   "cell_type": "code",
   "execution_count": 54,
   "metadata": {},
   "outputs": [
    {
     "name": "stdout",
     "output_type": "stream",
     "text": [
      "Number SNMP: 16 Number GT: 17\n",
      "Number SNMP: 16 Number GT: 17\n",
      "Number SNMP: 15 Number GT: 17\n",
      "Number SNMP: 15 Number GT: 17\n",
      "Number SNMP: 12 Number GT: 13\n",
      "Number SNMP: 12 Number GT: 13\n",
      "Number SNMP: 12 Number GT: 13\n",
      "Number SNMP: 13 Number GT: 14\n",
      "Number SNMP: 12 Number GT: 14\n",
      "Number SNMP: 12 Number GT: 14\n",
      "Number SNMP: 15 Number GT: 14\n",
      "Number SNMP: 13 Number GT: 14\n",
      "Number SNMP: 14 Number GT: 14\n",
      "Number SNMP: 14 Number GT: 15\n",
      "Number SNMP: 14 Number GT: 15\n",
      "Number SNMP: 22 Number GT: 15\n",
      "Number SNMP: 13 Number GT: 16\n",
      "Number SNMP: 14 Number GT: 16\n",
      "Number SNMP: 12 Number GT: 10\n",
      "Number SNMP: 15 Number GT: 10\n",
      "Number SNMP: 13 Number GT: 11\n",
      "Number SNMP: 15 Number GT: 14\n",
      "Number SNMP: 14 Number GT: 14\n",
      "Number SNMP: 14 Number GT: 14\n",
      "Number SNMP: 15 Number GT: 15\n",
      "Number SNMP: 16 Number GT: 15\n",
      "Number SNMP: 15 Number GT: 15\n",
      "Number SNMP: 15 Number GT: 15\n",
      "Number SNMP: 11 Number GT: 15\n",
      "Number SNMP: 0 Number GT: 15\n",
      "Number SNMP: 15 Number GT: 14\n",
      "Number SNMP: 0 Number GT: 15\n",
      "Number SNMP: 24 Number GT: 20\n",
      "Number SNMP: 25 Number GT: 21\n",
      "Number SNMP: 27 Number GT: 22\n",
      "Number SNMP: 29 Number GT: 20\n",
      "File finished\n"
     ]
    }
   ],
   "source": [
    "path = \"logs/\"\n",
    "x = 20\n",
    "try:\n",
    "    for i, file in enumerate(os.listdir(path)):\n",
    "        df = pd.read_csv(path+file)\n",
    "        date, month, year, hour, min, sec, room, gt= file.split(\"_\")\n",
    "        gt, csv = gt.split(\".\")\n",
    "        df = room_division(df)\n",
    "        app = []\n",
    "        app.append(room.upper())\n",
    "        df = df[df[\"Room\"].isin(app)].reset_index()\n",
    "        df = df.drop_duplicates(subset=[\"user_masked\"])\n",
    "        df = df[df['snr']>x]\n",
    "        df = df[df['class'] != 'Unknown']\n",
    "        print(f\"Number SNMP: {df['MAC_masked'].count() } Number GT: {gt}\")\n",
    "        er = abs(count-int(gt))*100/count\n",
    "        err.append(er)\n",
    "except:\n",
    "    print(\"File finished\")"
   ]
  },
  {
   "cell_type": "code",
   "execution_count": 55,
   "metadata": {},
   "outputs": [
    {
     "name": "stdout",
     "output_type": "stream",
     "text": [
      "Number SNMP: 64 Number GT: 75\n",
      "Number SNMP: 61 Number GT: 69\n"
     ]
    }
   ],
   "source": [
    "df_13 = pd.read_csv('logs/11_01_class12/12__30_75people.csv')\n",
    "df_14 = pd.read_csv('logs/11_01_class12/12__48_69people.csv')\n",
    "df_2p_13 = df_13[df_13[\"name_ap\"].isin([\"AP-AULA12-01\", \"AP-AULA12-02\", \"AP-AULA12-03\"])].reset_index()\n",
    "df_2p_14 = df_14[df_14[\"name_ap\"].isin([\"AP-AULA12-01\", \"AP-AULA12-02\", \"AP-AULA12-03\"])].reset_index()\n",
    "df_2p_13 = df_2p_13.drop_duplicates(subset=[\"user_masked\"])\n",
    "df_2p_14 = df_2p_14.drop_duplicates(subset=[\"user_masked\"])\n",
    "df_2p_13 = df_2p_13[df_2p_13['snr']>x]\n",
    "df_2p_14 = df_2p_14[df_2p_14['snr']>x]\n",
    "df_2p_13 = df_2p_13[df_2p_13['class'] != 'Unknown']\n",
    "df_2p_14 = df_2p_14[df_2p_14['class'] != 'Unknown']\n",
    "print(f\"Number SNMP: {df_2p_13['MAC_masked'].count()} Number GT: 75\")\n",
    "print(f\"Number SNMP: {df_2p_14['MAC_masked'].count()} Number GT: 69\")\n",
    "er = abs(df_2p_13['MAC_masked'].count()-75)*100/df_2p_13['MAC_masked'].count()\n",
    "err.append(er)\n",
    "er = abs(df_2p_14['MAC_masked'].count()-69)*100/df_2p_14['MAC_masked'].count()\n",
    "err.append(er)"
   ]
  },
  {
   "cell_type": "code",
   "execution_count": 56,
   "metadata": {},
   "outputs": [
    {
     "name": "stdout",
     "output_type": "stream",
     "text": [
      "Mean % error: 10.570891020342565\n"
     ]
    }
   ],
   "source": [
    "print(f\"Mean % error: {sum(err)/len(err)}\")"
   ]
  },
  {
   "cell_type": "code",
   "execution_count": null,
   "metadata": {},
   "outputs": [],
   "source": []
  },
  {
   "cell_type": "code",
   "execution_count": null,
   "metadata": {},
   "outputs": [],
   "source": []
  }
 ],
 "metadata": {
  "kernelspec": {
   "display_name": "Python 3",
   "language": "python",
   "name": "python3"
  },
  "language_info": {
   "codemirror_mode": {
    "name": "ipython",
    "version": 3
   },
   "file_extension": ".py",
   "mimetype": "text/x-python",
   "name": "python",
   "nbconvert_exporter": "python",
   "pygments_lexer": "ipython3",
   "version": "3.10.7"
  }
 },
 "nbformat": 4,
 "nbformat_minor": 2
}
