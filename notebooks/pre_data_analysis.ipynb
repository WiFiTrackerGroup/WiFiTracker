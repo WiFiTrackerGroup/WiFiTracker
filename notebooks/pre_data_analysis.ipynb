{
 "cells": [
  {
   "cell_type": "code",
   "execution_count": 1,
   "metadata": {},
   "outputs": [],
   "source": [
    "import pandas as pd\n",
    "pd.set_option('display.max_colwidth', None)"
   ]
  },
  {
   "cell_type": "code",
   "execution_count": 87,
   "metadata": {},
   "outputs": [],
   "source": [
    "df_1 = pd.read_csv('data/01_16_2024_13_41_aula2p_15.csv')\n",
    "df_2 = pd.read_csv('data/01_16_2024_13_43_aula2p_15.csv')\n",
    "df_3 = pd.read_csv('data/01_16_2024_14_25_aula2p_16.csv')\n",
    "df_4 = pd.read_csv('data/01_16_2024_14_26_aula2p_16.csv')\n",
    "df_5 = pd.read_csv('data/01_16_2024_14_34_aula2p_15.csv')\n",
    "df_6 = pd.read_csv('data/01_16_2024_14_35_aula2p_15.csv')\n",
    "df_7 = pd.read_csv('data/01_16_2024_14_37_aula2p_15.csv')\n",
    "df_8 = pd.read_csv('data/01_16_2024_14_38_aula2p_15.csv')\n",
    "df_9 = pd.read_csv('data/01_16_2024_15_48_13_aula2p_17_conn.csv')\n",
    "df_10 = pd.read_csv('data/01_16_2024_15_48_49_aula2p_17_conn.csv')\n",
    "df_11 = pd.read_csv('data/01_16_2024_15_50_32_aula2p_17._disc.csv')\n",
    "df_12 = pd.read_csv('data/01_16_2024_15_51_05_aula2p_17_disc.csv')\n",
    "df_13 = pd.read_csv('logs/11_01_class12/12__30_75people.csv')\n",
    "df_14 = pd.read_csv('logs/11_01_class12/12__48_69people.csv')\n",
    "df_15 = pd.read_csv('logs/01_19_2024_14_51_55_aula3p_22.csv')"
   ]
  },
  {
   "cell_type": "code",
   "execution_count": 88,
   "metadata": {},
   "outputs": [],
   "source": [
    "df_2p_1 = df_1[df_1[\"name_ap\"].isin([\"AP-AULA2P-01\", \"AP-AULA2P-02\", \"AP-AULA2P-03\", \"AP-AULA2P-04\"])].reset_index()\n",
    "df_2p_2 = df_2[df_2[\"name_ap\"].isin([\"AP-AULA2P-01\", \"AP-AULA2P-02\", \"AP-AULA2P-03\", \"AP-AULA2P-04\"])].reset_index()\n",
    "df_2p_3 = df_3[df_3[\"name_ap\"].isin([\"AP-AULA2P-01\", \"AP-AULA2P-02\", \"AP-AULA2P-03\", \"AP-AULA2P-04\"])].reset_index()\n",
    "df_2p_4 = df_4[df_4[\"name_ap\"].isin([\"AP-AULA2P-01\", \"AP-AULA2P-02\", \"AP-AULA2P-03\", \"AP-AULA2P-04\"])].reset_index()\n",
    "df_2p_5 = df_5[df_5[\"name_ap\"].isin([\"AP-AULA2P-01\", \"AP-AULA2P-02\", \"AP-AULA2P-03\", \"AP-AULA2P-04\"])].reset_index()\n",
    "df_2p_6 = df_6[df_6[\"name_ap\"].isin([\"AP-AULA2P-01\", \"AP-AULA2P-02\", \"AP-AULA2P-03\", \"AP-AULA2P-04\"])].reset_index()\n",
    "df_2p_7 = df_7[df_7[\"name_ap\"].isin([\"AP-AULA2P-01\", \"AP-AULA2P-02\", \"AP-AULA2P-03\", \"AP-AULA2P-04\"])].reset_index()\n",
    "df_2p_8 = df_8[df_8[\"name_ap\"].isin([\"AP-AULA2P-01\", \"AP-AULA2P-02\", \"AP-AULA2P-03\", \"AP-AULA2P-04\"])].reset_index()\n",
    "df_2p_9 = df_9[df_9[\"name_ap\"].isin([\"AP-AULA2P-01\", \"AP-AULA2P-02\", \"AP-AULA2P-03\", \"AP-AULA2P-04\"])].reset_index()\n",
    "df_2p_10 = df_10[df_10[\"name_ap\"].isin([\"AP-AULA2P-01\", \"AP-AULA2P-02\", \"AP-AULA2P-03\", \"AP-AULA2P-04\"])].reset_index()\n",
    "df_2p_11 = df_11[df_11[\"name_ap\"].isin([\"AP-AULA2P-01\", \"AP-AULA2P-02\", \"AP-AULA2P-03\", \"AP-AULA2P-04\"])].reset_index()\n",
    "df_2p_12 = df_12[df_12[\"name_ap\"].isin([\"AP-AULA2P-01\", \"AP-AULA2P-02\", \"AP-AULA2P-03\", \"AP-AULA2P-04\"])].reset_index()\n",
    "df_2p_13 = df_13[df_13[\"name_ap\"].isin([\"AP-AULA12-01\", \"AP-AULA12-02\", \"AP-AULA12-03\"])].reset_index()\n",
    "df_2p_14 = df_14[df_14[\"name_ap\"].isin([\"AP-AULA12-01\", \"AP-AULA12-02\", \"AP-AULA12-03\"])].reset_index()\n",
    "df_2p_15 = df_15[df_15[\"name_ap\"].isin([\"AP-AULA3P-01\", \"AP-AULA3P-02\", \"AP-AULA3P-03\", \"AP-AULA3P-04\"])].reset_index()"
   ]
  },
  {
   "cell_type": "code",
   "execution_count": 89,
   "metadata": {},
   "outputs": [],
   "source": [
    "df_2p_1 = df_2p_1.drop_duplicates(subset=[\"user_masked\"])\n",
    "df_2p_2 = df_2p_2.drop_duplicates(subset=[\"user_masked\"])\n",
    "df_2p_3 = df_2p_3.drop_duplicates(subset=[\"user_masked\"])\n",
    "df_2p_4 = df_2p_4.drop_duplicates(subset=[\"user_masked\"])\n",
    "df_2p_5 = df_2p_5.drop_duplicates(subset=[\"user_masked\"])\n",
    "df_2p_6 = df_2p_6.drop_duplicates(subset=[\"user_masked\"])\n",
    "df_2p_7 = df_2p_7.drop_duplicates(subset=[\"user_masked\"])\n",
    "df_2p_8 = df_2p_8.drop_duplicates(subset=[\"user_masked\"])\n",
    "df_2p_9 = df_2p_9.drop_duplicates(subset=[\"user_masked\"])\n",
    "df_2p_10 = df_2p_10.drop_duplicates(subset=[\"user_masked\"])\n",
    "df_2p_11 = df_2p_11.drop_duplicates(subset=[\"user_masked\"])\n",
    "df_2p_12 = df_2p_12.drop_duplicates(subset=[\"user_masked\"])\n",
    "df_2p_13 = df_2p_13.drop_duplicates(subset=[\"user_masked\"])\n",
    "df_2p_14 = df_2p_14.drop_duplicates(subset=[\"user_masked\"])\n",
    "df_2p_15 = df_2p_15.drop_duplicates(subset=[\"user_masked\"])"
   ]
  },
  {
   "cell_type": "code",
   "execution_count": 90,
   "metadata": {},
   "outputs": [],
   "source": [
    "x = 20\n",
    "df_2p_1 = df_2p_1[df_2p_1['snr']>x]\n",
    "df_2p_2 = df_2p_2[df_2p_2['snr']>x]\n",
    "df_2p_3 = df_2p_3[df_2p_3['snr']>x]\n",
    "df_2p_4 = df_2p_4[df_2p_4['snr']>x]\n",
    "df_2p_5 = df_2p_5[df_2p_5['snr']>x]\n",
    "df_2p_6 = df_2p_6[df_2p_6['snr']>x]\n",
    "df_2p_7 = df_2p_7[df_2p_7['snr']>x]\n",
    "df_2p_8 = df_2p_8[df_2p_8['snr']>x]\n",
    "df_2p_9 = df_2p_9[df_2p_9['snr']>x]\n",
    "df_2p_10 = df_2p_10[df_2p_10['snr']>x]\n",
    "df_2p_11 = df_2p_11[df_2p_11['snr']>x]\n",
    "df_2p_12 = df_2p_12[df_2p_12['snr']>x]\n",
    "df_2p_13 = df_2p_13[df_2p_13['snr']>x]\n",
    "df_2p_14 = df_2p_14[df_2p_14['snr']>x]\n",
    "df_2p_15 = df_2p_15[df_2p_15['snr']>x]"
   ]
  },
  {
   "cell_type": "code",
   "execution_count": 91,
   "metadata": {},
   "outputs": [],
   "source": [
    "df_2p_1 = df_2p_1[df_2p_1['class'] != 'Unknown']\n",
    "df_2p_2 = df_2p_2[df_2p_2['class'] != 'Unknown']\n",
    "df_2p_3 = df_2p_3[df_2p_3['class'] != 'Unknown']\n",
    "df_2p_4 = df_2p_4[df_2p_4['class'] != 'Unknown']\n",
    "df_2p_5 = df_2p_5[df_2p_5['class'] != 'Unknown']\n",
    "df_2p_6 = df_2p_6[df_2p_6['class'] != 'Unknown']\n",
    "df_2p_7 = df_2p_7[df_2p_7['class'] != 'Unknown']\n",
    "df_2p_8 = df_2p_8[df_2p_8['class'] != 'Unknown']\n",
    "df_2p_9 = df_2p_9[df_2p_9['class'] != 'Unknown']\n",
    "df_2p_10 = df_2p_10[df_2p_10['class'] != 'Unknown']\n",
    "df_2p_11 = df_2p_11[df_2p_11['class'] != 'Unknown']\n",
    "df_2p_12 = df_2p_12[df_2p_12['class'] != 'Unknown']\n",
    "df_2p_13 = df_2p_13[df_2p_13['class'] != 'Unknown']\n",
    "df_2p_14 = df_2p_14[df_2p_14['class'] != 'Unknown']\n",
    "df_2p_15 = df_2p_15[df_2p_15['class'] != 'Unknown']"
   ]
  },
  {
   "cell_type": "code",
   "execution_count": 92,
   "metadata": {},
   "outputs": [
    {
     "name": "stdout",
     "output_type": "stream",
     "text": [
      "Number SNMP: 12 Number GT: 15\n",
      "Number SNMP: 13 Number GT: 15\n",
      "Number SNMP: 14 Number GT: 16\n",
      "Number SNMP: 13 Number GT: 16\n",
      "Number SNMP: 15 Number GT: 15\n",
      "Number SNMP: 14 Number GT: 15\n",
      "Number SNMP: 12 Number GT: 15\n",
      "Number SNMP: 14 Number GT: 15\n",
      "Number SNMP: 16 Number GT: 17\n",
      "Number SNMP: 16 Number GT: 17\n",
      "Number SNMP: 15 Number GT: 17\n",
      "Number SNMP: 15 Number GT: 17\n",
      "Number SNMP: 48 Number GT: 75\n",
      "Number SNMP: 41 Number GT: 69\n",
      "Number SNMP: 24 Number GT: 22\n"
     ]
    }
   ],
   "source": [
    "print(f\"Number SNMP: {df_2p_1['MAC_masked'].count() } Number GT: 15\")\n",
    "print(f\"Number SNMP: {df_2p_2['MAC_masked'].count()} Number GT: 15\")\n",
    "print(f\"Number SNMP: {df_2p_3['MAC_masked'].count()} Number GT: 16\")\n",
    "print(f\"Number SNMP: {df_2p_4['MAC_masked'].count()} Number GT: 16\")\n",
    "print(f\"Number SNMP: {df_2p_5['MAC_masked'].count()} Number GT: 15\")\n",
    "print(f\"Number SNMP: {df_2p_6['MAC_masked'].count()} Number GT: 15\")\n",
    "print(f\"Number SNMP: {df_2p_7['MAC_masked'].count()} Number GT: 15\")\n",
    "print(f\"Number SNMP: {df_2p_8['MAC_masked'].count()} Number GT: 15\")\n",
    "print(f\"Number SNMP: {df_2p_9['MAC_masked'].count()} Number GT: 17\")\n",
    "print(f\"Number SNMP: {df_2p_10['MAC_masked'].count()} Number GT: 17\")\n",
    "print(f\"Number SNMP: {df_2p_11['MAC_masked'].count()} Number GT: 17\")\n",
    "print(f\"Number SNMP: {df_2p_12['MAC_masked'].count()} Number GT: 17\")\n",
    "print(f\"Number SNMP: {df_2p_13['MAC_masked'].count()} Number GT: 75\")\n",
    "print(f\"Number SNMP: {df_2p_14['MAC_masked'].count()} Number GT: 69\")\n",
    "print(f\"Number SNMP: {df_2p_15['MAC_masked'].count()} Number GT: 22\")"
   ]
  },
  {
   "cell_type": "code",
   "execution_count": 68,
   "metadata": {},
   "outputs": [],
   "source": [
    "df_all = df_conn_2p.merge(df_disc_2p.drop_duplicates(), on=['user_masked'], \n",
    "                   how='left', indicator=True)"
   ]
  },
  {
   "cell_type": "code",
   "execution_count": 45,
   "metadata": {},
   "outputs": [],
   "source": [
    "giova = df_all[df_all[\"_merge\"] == \"left_only\"][\"user_masked\"].iloc[0]"
   ]
  },
  {
   "cell_type": "code",
   "execution_count": 46,
   "metadata": {},
   "outputs": [
    {
     "data": {
      "text/plain": [
       "'a74e472c3aabccfc36c088527061d3b1617d9b922ae75cf9732025e08e31c59c'"
      ]
     },
     "execution_count": 46,
     "metadata": {},
     "output_type": "execute_result"
    }
   ],
   "source": [
    "giova"
   ]
  },
  {
   "cell_type": "code",
   "execution_count": 91,
   "metadata": {},
   "outputs": [
    {
     "data": {
      "text/html": [
       "<div>\n",
       "<style scoped>\n",
       "    .dataframe tbody tr th:only-of-type {\n",
       "        vertical-align: middle;\n",
       "    }\n",
       "\n",
       "    .dataframe tbody tr th {\n",
       "        vertical-align: top;\n",
       "    }\n",
       "\n",
       "    .dataframe thead th {\n",
       "        text-align: right;\n",
       "    }\n",
       "</style>\n",
       "<table border=\"1\" class=\"dataframe\">\n",
       "  <thead>\n",
       "    <tr style=\"text-align: right;\">\n",
       "      <th></th>\n",
       "      <th>index_x</th>\n",
       "      <th>MAC_masked_x</th>\n",
       "      <th>user_masked</th>\n",
       "      <th>domain_x</th>\n",
       "      <th>rssi_x</th>\n",
       "      <th>snr_x</th>\n",
       "      <th>byte_rx_x</th>\n",
       "      <th>byte_tx_x</th>\n",
       "      <th>name_ap_x</th>\n",
       "      <th>class_x</th>\n",
       "      <th>index_y</th>\n",
       "      <th>MAC_masked_y</th>\n",
       "      <th>domain_y</th>\n",
       "      <th>rssi_y</th>\n",
       "      <th>snr_y</th>\n",
       "      <th>byte_rx_y</th>\n",
       "      <th>byte_tx_y</th>\n",
       "      <th>name_ap_y</th>\n",
       "      <th>class_y</th>\n",
       "      <th>_merge</th>\n",
       "    </tr>\n",
       "  </thead>\n",
       "  <tbody>\n",
       "    <tr>\n",
       "      <th>6</th>\n",
       "      <td>1592</td>\n",
       "      <td>d7aa1174199824bdd1714a42a057d25e90b2bfafb249ef7fe4840940c2d72609</td>\n",
       "      <td>a74e472c3aabccfc36c088527061d3b1617d9b922ae75cf9732025e08e31c59c</td>\n",
       "      <td>studenti.polito.it</td>\n",
       "      <td>-56.0</td>\n",
       "      <td>35.0</td>\n",
       "      <td>8587.0</td>\n",
       "      <td>10663</td>\n",
       "      <td>AP-AULA2P-03</td>\n",
       "      <td>Student</td>\n",
       "      <td>NaN</td>\n",
       "      <td>NaN</td>\n",
       "      <td>NaN</td>\n",
       "      <td>NaN</td>\n",
       "      <td>NaN</td>\n",
       "      <td>NaN</td>\n",
       "      <td>NaN</td>\n",
       "      <td>NaN</td>\n",
       "      <td>NaN</td>\n",
       "      <td>left_only</td>\n",
       "    </tr>\n",
       "  </tbody>\n",
       "</table>\n",
       "</div>"
      ],
      "text/plain": [
       "   index_x                                                      MAC_masked_x  \\\n",
       "6     1592  d7aa1174199824bdd1714a42a057d25e90b2bfafb249ef7fe4840940c2d72609   \n",
       "\n",
       "                                                        user_masked  \\\n",
       "6  a74e472c3aabccfc36c088527061d3b1617d9b922ae75cf9732025e08e31c59c   \n",
       "\n",
       "             domain_x  rssi_x  snr_x  byte_rx_x  byte_tx_x     name_ap_x  \\\n",
       "6  studenti.polito.it   -56.0   35.0     8587.0      10663  AP-AULA2P-03   \n",
       "\n",
       "   class_x  index_y MAC_masked_y domain_y  rssi_y  snr_y  byte_rx_y  \\\n",
       "6  Student      NaN          NaN      NaN     NaN    NaN        NaN   \n",
       "\n",
       "   byte_tx_y name_ap_y class_y     _merge  \n",
       "6        NaN       NaN     NaN  left_only  "
      ]
     },
     "execution_count": 91,
     "metadata": {},
     "output_type": "execute_result"
    }
   ],
   "source": [
    "df_disc_2 = pd.read_csv('data/01_16_2024_15_50_32_aula2p_17._disc.csv')\n",
    "df_conn_2 = pd.read_csv('data/01_16_2024_15_48_49_aula2p_17_conn.csv')\n",
    "\n",
    "df_disc__2_2p = df_disc[df_disc[\"name_ap\"].isin([\"AP-AULA2P-01\", \"AP-AULA2P-02\", \"AP-AULA2P-03\", \"AP-AULA2P-04\"])].reset_index()\n",
    "df_conn__2_2p = df_conn[df_conn[\"name_ap\"].isin([\"AP-AULA2P-01\", \"AP-AULA2P-02\", \"AP-AULA2P-03\", \"AP-AULA2P-04\"])].reset_index()\n",
    "\n",
    "# df_conn__2_2p = df_conn__2_2p.drop_duplicates(subset=[\"user_masked\"])\n",
    "# df_disc__2_2p = df_disc__2_2p.drop_duplicates(subset=[\"user_masked\"])\n",
    "\n",
    "df_all = df_conn__2_2p.merge(df_disc__2_2p.drop_duplicates(), on=['user_masked'], \n",
    "                   how='left', indicator=True)\n",
    "\n",
    "df_all[df_all[\"_merge\"] == \"left_only\"]\n"
   ]
  },
  {
   "cell_type": "code",
   "execution_count": 51,
   "metadata": {},
   "outputs": [
    {
     "name": "stdout",
     "output_type": "stream",
     "text": [
      "Giova found: a74e472c3aabccfc36c088527061d3b1617d9b922ae75cf9732025e08e31c59c\n"
     ]
    }
   ],
   "source": [
    "if giova == giova_2:\n",
    "    print(\"Giova found:\", giova)\n",
    "else:\n",
    "    print(\"Giova not found :(\")"
   ]
  },
  {
   "cell_type": "code",
   "execution_count": 52,
   "metadata": {},
   "outputs": [],
   "source": [
    "df_p_1 = pd.read_csv('data/01_16_2024_14_34_aula2p_15.csv')\n",
    "df_2_p1 = pd.read_csv('data/01_16_2024_14_35_aula2p_15.csv')\n",
    "df_p_2 = pd.read_csv('data/01_16_2024_14_37_aula2p_15.csv')\n",
    "df_wall = pd.read_csv('data/01_16_2024_14_38_aula2p_15.csv')"
   ]
  },
  {
   "cell_type": "markdown",
   "metadata": {},
   "source": [
    "### SNR and RSSI comparison"
   ]
  },
  {
   "cell_type": "code",
   "execution_count": 75,
   "metadata": {},
   "outputs": [
    {
     "data": {
      "text/html": [
       "<div>\n",
       "<style scoped>\n",
       "    .dataframe tbody tr th:only-of-type {\n",
       "        vertical-align: middle;\n",
       "    }\n",
       "\n",
       "    .dataframe tbody tr th {\n",
       "        vertical-align: top;\n",
       "    }\n",
       "\n",
       "    .dataframe thead th {\n",
       "        text-align: right;\n",
       "    }\n",
       "</style>\n",
       "<table border=\"1\" class=\"dataframe\">\n",
       "  <thead>\n",
       "    <tr style=\"text-align: right;\">\n",
       "      <th></th>\n",
       "      <th>snr</th>\n",
       "      <th>rssi</th>\n",
       "      <th>name_ap</th>\n",
       "      <th>MAC_masked</th>\n",
       "    </tr>\n",
       "  </thead>\n",
       "  <tbody>\n",
       "    <tr>\n",
       "      <th>1592</th>\n",
       "      <td>35.0</td>\n",
       "      <td>-56.0</td>\n",
       "      <td>AP-AULA2P-03</td>\n",
       "      <td>d7aa1174199824bdd1714a42a057d25e90b2bfafb249ef7fe4840940c2d72609</td>\n",
       "    </tr>\n",
       "  </tbody>\n",
       "</table>\n",
       "</div>"
      ],
      "text/plain": [
       "       snr  rssi       name_ap  \\\n",
       "1592  35.0 -56.0  AP-AULA2P-03   \n",
       "\n",
       "                                                            MAC_masked  \n",
       "1592  d7aa1174199824bdd1714a42a057d25e90b2bfafb249ef7fe4840940c2d72609  "
      ]
     },
     "execution_count": 75,
     "metadata": {},
     "output_type": "execute_result"
    }
   ],
   "source": [
    "df_conn[df_conn[\"user_masked\"] == giova][[\"snr\", \"rssi\", \"name_ap\", \"MAC_masked\"]]"
   ]
  },
  {
   "cell_type": "code",
   "execution_count": 67,
   "metadata": {},
   "outputs": [
    {
     "data": {
      "text/html": [
       "<div>\n",
       "<style scoped>\n",
       "    .dataframe tbody tr th:only-of-type {\n",
       "        vertical-align: middle;\n",
       "    }\n",
       "\n",
       "    .dataframe tbody tr th {\n",
       "        vertical-align: top;\n",
       "    }\n",
       "\n",
       "    .dataframe thead th {\n",
       "        text-align: right;\n",
       "    }\n",
       "</style>\n",
       "<table border=\"1\" class=\"dataframe\">\n",
       "  <thead>\n",
       "    <tr style=\"text-align: right;\">\n",
       "      <th></th>\n",
       "      <th>snr</th>\n",
       "      <th>rssi</th>\n",
       "      <th>name_ap</th>\n",
       "    </tr>\n",
       "  </thead>\n",
       "  <tbody>\n",
       "    <tr>\n",
       "      <th>1575</th>\n",
       "      <td>50.0</td>\n",
       "      <td>-44.0</td>\n",
       "      <td>AP-AULA2P-03</td>\n",
       "    </tr>\n",
       "  </tbody>\n",
       "</table>\n",
       "</div>"
      ],
      "text/plain": [
       "       snr  rssi       name_ap\n",
       "1575  50.0 -44.0  AP-AULA2P-03"
      ]
     },
     "execution_count": 67,
     "metadata": {},
     "output_type": "execute_result"
    }
   ],
   "source": [
    "df_conn_2[df_conn_2[\"user_masked\"] == giova][[\"snr\", \"rssi\", \"name_ap\"]]"
   ]
  },
  {
   "cell_type": "code",
   "execution_count": 68,
   "metadata": {},
   "outputs": [
    {
     "data": {
      "text/html": [
       "<div>\n",
       "<style scoped>\n",
       "    .dataframe tbody tr th:only-of-type {\n",
       "        vertical-align: middle;\n",
       "    }\n",
       "\n",
       "    .dataframe tbody tr th {\n",
       "        vertical-align: top;\n",
       "    }\n",
       "\n",
       "    .dataframe thead th {\n",
       "        text-align: right;\n",
       "    }\n",
       "</style>\n",
       "<table border=\"1\" class=\"dataframe\">\n",
       "  <thead>\n",
       "    <tr style=\"text-align: right;\">\n",
       "      <th></th>\n",
       "      <th>snr</th>\n",
       "      <th>rssi</th>\n",
       "      <th>name_ap</th>\n",
       "    </tr>\n",
       "  </thead>\n",
       "  <tbody>\n",
       "    <tr>\n",
       "      <th>1563</th>\n",
       "      <td>48.0</td>\n",
       "      <td>-47.0</td>\n",
       "      <td>AP-AULA2P-03</td>\n",
       "    </tr>\n",
       "  </tbody>\n",
       "</table>\n",
       "</div>"
      ],
      "text/plain": [
       "       snr  rssi       name_ap\n",
       "1563  48.0 -47.0  AP-AULA2P-03"
      ]
     },
     "execution_count": 68,
     "metadata": {},
     "output_type": "execute_result"
    }
   ],
   "source": [
    "df_p_1[df_p_1[\"user_masked\"] == giova][[\"snr\", \"rssi\", \"name_ap\"]]"
   ]
  },
  {
   "cell_type": "code",
   "execution_count": 69,
   "metadata": {},
   "outputs": [
    {
     "data": {
      "text/html": [
       "<div>\n",
       "<style scoped>\n",
       "    .dataframe tbody tr th:only-of-type {\n",
       "        vertical-align: middle;\n",
       "    }\n",
       "\n",
       "    .dataframe tbody tr th {\n",
       "        vertical-align: top;\n",
       "    }\n",
       "\n",
       "    .dataframe thead th {\n",
       "        text-align: right;\n",
       "    }\n",
       "</style>\n",
       "<table border=\"1\" class=\"dataframe\">\n",
       "  <thead>\n",
       "    <tr style=\"text-align: right;\">\n",
       "      <th></th>\n",
       "      <th>snr</th>\n",
       "      <th>rssi</th>\n",
       "      <th>name_ap</th>\n",
       "    </tr>\n",
       "  </thead>\n",
       "  <tbody>\n",
       "    <tr>\n",
       "      <th>1572</th>\n",
       "      <td>53.0</td>\n",
       "      <td>-44.0</td>\n",
       "      <td>AP-AULA2P-03</td>\n",
       "    </tr>\n",
       "  </tbody>\n",
       "</table>\n",
       "</div>"
      ],
      "text/plain": [
       "       snr  rssi       name_ap\n",
       "1572  53.0 -44.0  AP-AULA2P-03"
      ]
     },
     "execution_count": 69,
     "metadata": {},
     "output_type": "execute_result"
    }
   ],
   "source": [
    "df_2_p1[df_2_p1[\"user_masked\"] == giova][[\"snr\", \"rssi\", \"name_ap\"]]"
   ]
  },
  {
   "cell_type": "code",
   "execution_count": 70,
   "metadata": {},
   "outputs": [
    {
     "data": {
      "text/html": [
       "<div>\n",
       "<style scoped>\n",
       "    .dataframe tbody tr th:only-of-type {\n",
       "        vertical-align: middle;\n",
       "    }\n",
       "\n",
       "    .dataframe tbody tr th {\n",
       "        vertical-align: top;\n",
       "    }\n",
       "\n",
       "    .dataframe thead th {\n",
       "        text-align: right;\n",
       "    }\n",
       "</style>\n",
       "<table border=\"1\" class=\"dataframe\">\n",
       "  <thead>\n",
       "    <tr style=\"text-align: right;\">\n",
       "      <th></th>\n",
       "      <th>snr</th>\n",
       "      <th>rssi</th>\n",
       "      <th>name_ap</th>\n",
       "    </tr>\n",
       "  </thead>\n",
       "  <tbody>\n",
       "    <tr>\n",
       "      <th>1565</th>\n",
       "      <td>49.0</td>\n",
       "      <td>-46.0</td>\n",
       "      <td>AP-AULA2P-03</td>\n",
       "    </tr>\n",
       "  </tbody>\n",
       "</table>\n",
       "</div>"
      ],
      "text/plain": [
       "       snr  rssi       name_ap\n",
       "1565  49.0 -46.0  AP-AULA2P-03"
      ]
     },
     "execution_count": 70,
     "metadata": {},
     "output_type": "execute_result"
    }
   ],
   "source": [
    "df_p_2[df_p_2[\"user_masked\"] == giova][[\"snr\", \"rssi\", \"name_ap\"]]"
   ]
  },
  {
   "cell_type": "code",
   "execution_count": 71,
   "metadata": {},
   "outputs": [
    {
     "data": {
      "text/html": [
       "<div>\n",
       "<style scoped>\n",
       "    .dataframe tbody tr th:only-of-type {\n",
       "        vertical-align: middle;\n",
       "    }\n",
       "\n",
       "    .dataframe tbody tr th {\n",
       "        vertical-align: top;\n",
       "    }\n",
       "\n",
       "    .dataframe thead th {\n",
       "        text-align: right;\n",
       "    }\n",
       "</style>\n",
       "<table border=\"1\" class=\"dataframe\">\n",
       "  <thead>\n",
       "    <tr style=\"text-align: right;\">\n",
       "      <th></th>\n",
       "      <th>snr</th>\n",
       "      <th>rssi</th>\n",
       "      <th>name_ap</th>\n",
       "    </tr>\n",
       "  </thead>\n",
       "  <tbody>\n",
       "    <tr>\n",
       "      <th>1561</th>\n",
       "      <td>49.0</td>\n",
       "      <td>-46.0</td>\n",
       "      <td>AP-AULA2P-03</td>\n",
       "    </tr>\n",
       "  </tbody>\n",
       "</table>\n",
       "</div>"
      ],
      "text/plain": [
       "       snr  rssi       name_ap\n",
       "1561  49.0 -46.0  AP-AULA2P-03"
      ]
     },
     "execution_count": 71,
     "metadata": {},
     "output_type": "execute_result"
    }
   ],
   "source": [
    "df_wall[df_wall[\"user_masked\"] == giova][[\"snr\", \"rssi\", \"name_ap\"]]"
   ]
  },
  {
   "cell_type": "code",
   "execution_count": 73,
   "metadata": {},
   "outputs": [
    {
     "data": {
      "text/plain": [
       "38.8125"
      ]
     },
     "execution_count": 73,
     "metadata": {},
     "output_type": "execute_result"
    }
   ],
   "source": [
    "df_disc_2p[\"snr\"].mean()"
   ]
  },
  {
   "cell_type": "code",
   "execution_count": null,
   "metadata": {},
   "outputs": [],
   "source": []
  }
 ],
 "metadata": {
  "kernelspec": {
   "display_name": ".venv",
   "language": "python",
   "name": "python3"
  },
  "language_info": {
   "codemirror_mode": {
    "name": "ipython",
    "version": 3
   },
   "file_extension": ".py",
   "mimetype": "text/x-python",
   "name": "python",
   "nbconvert_exporter": "python",
   "pygments_lexer": "ipython3",
   "version": "3.10.7"
  }
 },
 "nbformat": 4,
 "nbformat_minor": 2
}
