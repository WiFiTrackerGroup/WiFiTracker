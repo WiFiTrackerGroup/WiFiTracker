{
 "cells": [
  {
   "cell_type": "code",
   "execution_count": 2,
   "metadata": {},
   "outputs": [],
   "source": [
    "import pandas as pd\n",
    "pd.set_option('display.max_colwidth', None)"
   ]
  },
  {
   "cell_type": "code",
   "execution_count": 5,
   "metadata": {},
   "outputs": [],
   "source": [
    "df_disc = pd.read_csv('data/01_16_2024_14_26_aula2p_16.csv')\n",
    "df_conn = pd.read_csv('data/01_16_2024_14_34_aula2p_15.csv')"
   ]
  },
  {
   "cell_type": "code",
   "execution_count": 6,
   "metadata": {},
   "outputs": [],
   "source": [
    "df_disc_2p = df_disc[df_disc[\"name_ap\"].isin([\"AP-AULA2P-01\", \"AP-AULA2P-02\", \"AP-AULA2P-03\", \"AP-AULA2P-04\"])].reset_index()\n",
    "df_conn_2p = df_conn[df_conn[\"name_ap\"].isin([\"AP-AULA2P-01\", \"AP-AULA2P-02\", \"AP-AULA2P-03\", \"AP-AULA2P-04\"])].reset_index()"
   ]
  },
  {
   "cell_type": "code",
   "execution_count": 7,
   "metadata": {},
   "outputs": [],
   "source": [
    "df_conn_2p = df_conn_2p.drop_duplicates(subset=[\"user_masked\"])\n",
    "df_disc_2p = df_disc_2p.drop_duplicates(subset=[\"user_masked\"])"
   ]
  },
  {
   "cell_type": "code",
   "execution_count": 8,
   "metadata": {},
   "outputs": [
    {
     "name": "stdout",
     "output_type": "stream",
     "text": [
      "Number of connected user: [df_conn] 20\n",
      "Number of connecterd user: [df_disc] 25\n"
     ]
    }
   ],
   "source": [
    "print(\"Number of connected user: [df_conn]\", df_conn_2p[\"user_masked\"].count())\n",
    "print(\"Number of connecterd user: [df_disc]\", df_disc_2p[\"user_masked\"].count())"
   ]
  },
  {
   "cell_type": "code",
   "execution_count": 9,
   "metadata": {},
   "outputs": [],
   "source": [
    "df_all = df_conn_2p.merge(df_disc_2p.drop_duplicates(), on=['user_masked'], \n",
    "                   how='left', indicator=True)"
   ]
  },
  {
   "cell_type": "code",
   "execution_count": 10,
   "metadata": {},
   "outputs": [],
   "source": [
    "giova = df_all[df_all[\"_merge\"] == \"left_only\"][\"user_masked\"].iloc[0]"
   ]
  },
  {
   "cell_type": "code",
   "execution_count": 11,
   "metadata": {},
   "outputs": [
    {
     "data": {
      "text/plain": [
       "'67adb85bd3b55701b19121015cfef6aa26d02600faf0fd1b9a4c42921055c6af'"
      ]
     },
     "execution_count": 11,
     "metadata": {},
     "output_type": "execute_result"
    }
   ],
   "source": [
    "giova"
   ]
  },
  {
   "cell_type": "code",
   "execution_count": 15,
   "metadata": {},
   "outputs": [
    {
     "data": {
      "text/html": [
       "<div>\n",
       "<style scoped>\n",
       "    .dataframe tbody tr th:only-of-type {\n",
       "        vertical-align: middle;\n",
       "    }\n",
       "\n",
       "    .dataframe tbody tr th {\n",
       "        vertical-align: top;\n",
       "    }\n",
       "\n",
       "    .dataframe thead th {\n",
       "        text-align: right;\n",
       "    }\n",
       "</style>\n",
       "<table border=\"1\" class=\"dataframe\">\n",
       "  <thead>\n",
       "    <tr style=\"text-align: right;\">\n",
       "      <th></th>\n",
       "      <th>index_x</th>\n",
       "      <th>MAC_masked_x</th>\n",
       "      <th>user_masked</th>\n",
       "      <th>domain_x</th>\n",
       "      <th>rssi_x</th>\n",
       "      <th>snr_x</th>\n",
       "      <th>byte_rx_x</th>\n",
       "      <th>byte_tx_x</th>\n",
       "      <th>name_ap_x</th>\n",
       "      <th>class_x</th>\n",
       "      <th>index_y</th>\n",
       "      <th>MAC_masked_y</th>\n",
       "      <th>domain_y</th>\n",
       "      <th>rssi_y</th>\n",
       "      <th>snr_y</th>\n",
       "      <th>byte_rx_y</th>\n",
       "      <th>byte_tx_y</th>\n",
       "      <th>name_ap_y</th>\n",
       "      <th>class_y</th>\n",
       "      <th>_merge</th>\n",
       "    </tr>\n",
       "  </thead>\n",
       "  <tbody>\n",
       "    <tr>\n",
       "      <th>0</th>\n",
       "      <td>234</td>\n",
       "      <td>16124a0a4105457897feecd9779b7ef08306eccf8985659d0d89ad56a6f9dded</td>\n",
       "      <td>67adb85bd3b55701b19121015cfef6aa26d02600faf0fd1b9a4c42921055c6af</td>\n",
       "      <td>polito.it</td>\n",
       "      <td>-59.0</td>\n",
       "      <td>30.0</td>\n",
       "      <td>1287558.0</td>\n",
       "      <td>130113</td>\n",
       "      <td>AP-AULA2P-01</td>\n",
       "      <td>Staff</td>\n",
       "      <td>NaN</td>\n",
       "      <td>NaN</td>\n",
       "      <td>NaN</td>\n",
       "      <td>NaN</td>\n",
       "      <td>NaN</td>\n",
       "      <td>NaN</td>\n",
       "      <td>NaN</td>\n",
       "      <td>NaN</td>\n",
       "      <td>NaN</td>\n",
       "      <td>left_only</td>\n",
       "    </tr>\n",
       "    <tr>\n",
       "      <th>41</th>\n",
       "      <td>7546</td>\n",
       "      <td>6eee15f5d404402cf3dc7a4bb2c99aefcfc1b6129441d6502de4e93f381efb4e</td>\n",
       "      <td>c31c75f28564230837d6375ca08fd8a9a00293b16f8b0d1ee9a6e170a55ffeff</td>\n",
       "      <td>studenti.polito.it</td>\n",
       "      <td>-54.0</td>\n",
       "      <td>38.0</td>\n",
       "      <td>106288692.0</td>\n",
       "      <td>19740937</td>\n",
       "      <td>AP-AULA2P-01</td>\n",
       "      <td>Student</td>\n",
       "      <td>NaN</td>\n",
       "      <td>NaN</td>\n",
       "      <td>NaN</td>\n",
       "      <td>NaN</td>\n",
       "      <td>NaN</td>\n",
       "      <td>NaN</td>\n",
       "      <td>NaN</td>\n",
       "      <td>NaN</td>\n",
       "      <td>NaN</td>\n",
       "      <td>left_only</td>\n",
       "    </tr>\n",
       "    <tr>\n",
       "      <th>45</th>\n",
       "      <td>7821</td>\n",
       "      <td>d0677b91afa159c0edee27e38db21c4248e67b7544c19cec9597f2c2700f81e2</td>\n",
       "      <td>c31c75f28564230837d6375ca08fd8a9a00293b16f8b0d1ee9a6e170a55ffeff</td>\n",
       "      <td>studenti.polito.it</td>\n",
       "      <td>-62.0</td>\n",
       "      <td>32.0</td>\n",
       "      <td>124136201.0</td>\n",
       "      <td>7363429</td>\n",
       "      <td>AP-AULA2P-02</td>\n",
       "      <td>Student</td>\n",
       "      <td>NaN</td>\n",
       "      <td>NaN</td>\n",
       "      <td>NaN</td>\n",
       "      <td>NaN</td>\n",
       "      <td>NaN</td>\n",
       "      <td>NaN</td>\n",
       "      <td>NaN</td>\n",
       "      <td>NaN</td>\n",
       "      <td>NaN</td>\n",
       "      <td>left_only</td>\n",
       "    </tr>\n",
       "    <tr>\n",
       "      <th>46</th>\n",
       "      <td>8459</td>\n",
       "      <td>c09b070e3627bb29ffa336e5c83ed6d4d67e6cb806f1bf6c9f0761bafa3b2719</td>\n",
       "      <td>4879b2e18d0ebcce0a4db5a31bd888d25dbba5aac7dce452674f49a89b1db701</td>\n",
       "      <td>studenti.polito.it</td>\n",
       "      <td>-53.0</td>\n",
       "      <td>40.0</td>\n",
       "      <td>16123305.0</td>\n",
       "      <td>142370526</td>\n",
       "      <td>AP-AULA2P-01</td>\n",
       "      <td>Student</td>\n",
       "      <td>NaN</td>\n",
       "      <td>NaN</td>\n",
       "      <td>NaN</td>\n",
       "      <td>NaN</td>\n",
       "      <td>NaN</td>\n",
       "      <td>NaN</td>\n",
       "      <td>NaN</td>\n",
       "      <td>NaN</td>\n",
       "      <td>NaN</td>\n",
       "      <td>left_only</td>\n",
       "    </tr>\n",
       "  </tbody>\n",
       "</table>\n",
       "</div>"
      ],
      "text/plain": [
       "    index_x                                                      MAC_masked_x  \\\n",
       "0       234  16124a0a4105457897feecd9779b7ef08306eccf8985659d0d89ad56a6f9dded   \n",
       "41     7546  6eee15f5d404402cf3dc7a4bb2c99aefcfc1b6129441d6502de4e93f381efb4e   \n",
       "45     7821  d0677b91afa159c0edee27e38db21c4248e67b7544c19cec9597f2c2700f81e2   \n",
       "46     8459  c09b070e3627bb29ffa336e5c83ed6d4d67e6cb806f1bf6c9f0761bafa3b2719   \n",
       "\n",
       "                                                         user_masked  \\\n",
       "0   67adb85bd3b55701b19121015cfef6aa26d02600faf0fd1b9a4c42921055c6af   \n",
       "41  c31c75f28564230837d6375ca08fd8a9a00293b16f8b0d1ee9a6e170a55ffeff   \n",
       "45  c31c75f28564230837d6375ca08fd8a9a00293b16f8b0d1ee9a6e170a55ffeff   \n",
       "46  4879b2e18d0ebcce0a4db5a31bd888d25dbba5aac7dce452674f49a89b1db701   \n",
       "\n",
       "              domain_x  rssi_x  snr_x    byte_rx_x  byte_tx_x     name_ap_x  \\\n",
       "0            polito.it   -59.0   30.0    1287558.0     130113  AP-AULA2P-01   \n",
       "41  studenti.polito.it   -54.0   38.0  106288692.0   19740937  AP-AULA2P-01   \n",
       "45  studenti.polito.it   -62.0   32.0  124136201.0    7363429  AP-AULA2P-02   \n",
       "46  studenti.polito.it   -53.0   40.0   16123305.0  142370526  AP-AULA2P-01   \n",
       "\n",
       "    class_x  index_y MAC_masked_y domain_y  rssi_y  snr_y  byte_rx_y  \\\n",
       "0     Staff      NaN          NaN      NaN     NaN    NaN        NaN   \n",
       "41  Student      NaN          NaN      NaN     NaN    NaN        NaN   \n",
       "45  Student      NaN          NaN      NaN     NaN    NaN        NaN   \n",
       "46  Student      NaN          NaN      NaN     NaN    NaN        NaN   \n",
       "\n",
       "    byte_tx_y name_ap_y class_y     _merge  \n",
       "0         NaN       NaN     NaN  left_only  \n",
       "41        NaN       NaN     NaN  left_only  \n",
       "45        NaN       NaN     NaN  left_only  \n",
       "46        NaN       NaN     NaN  left_only  "
      ]
     },
     "execution_count": 15,
     "metadata": {},
     "output_type": "execute_result"
    }
   ],
   "source": [
    "df_disc_2 = pd.read_csv('data/01_16_2024_15_50_32_aula2p_17._disc.csv')\n",
    "df_conn_2 = pd.read_csv('data/01_16_2024_15_48_49_aula2p_17_conn.csv')\n",
    "\n",
    "df_disc__2_2p = df_disc[df_disc[\"name_ap\"].isin([\"AP-AULA2P-01\", \"AP-AULA2P-02\", \"AP-AULA2P-03\", \"AP-AULA2P-04\"])].reset_index()\n",
    "df_conn__2_2p = df_conn[df_conn[\"name_ap\"].isin([\"AP-AULA2P-01\", \"AP-AULA2P-02\", \"AP-AULA2P-03\", \"AP-AULA2P-04\"])].reset_index()\n",
    "\n",
    "# df_conn__2_2p = df_conn__2_2p.drop_duplicates(subset=[\"user_masked\"])\n",
    "# df_disc__2_2p = df_disc__2_2p.drop_duplicates(subset=[\"user_masked\"])\n",
    "\n",
    "df_all = df_conn__2_2p.merge(df_disc__2_2p.drop_duplicates(), on=['user_masked'], \n",
    "                   how='left', indicator=True)\n",
    "\n",
    "df_all[df_all[\"_merge\"] == \"left_only\"]\n"
   ]
  },
  {
   "cell_type": "code",
   "execution_count": 24,
   "metadata": {},
   "outputs": [
    {
     "ename": "NameError",
     "evalue": "name 'giova_2' is not defined",
     "output_type": "error",
     "traceback": [
      "\u001b[0;31m---------------------------------------------------------------------------\u001b[0m",
      "\u001b[0;31mNameError\u001b[0m                                 Traceback (most recent call last)",
      "Cell \u001b[0;32mIn[24], line 1\u001b[0m\n\u001b[0;32m----> 1\u001b[0m \u001b[38;5;28;01mif\u001b[39;00m giova \u001b[38;5;241m==\u001b[39m \u001b[43mgiova_2\u001b[49m:\n\u001b[1;32m      2\u001b[0m     \u001b[38;5;28mprint\u001b[39m(\u001b[38;5;124m\"\u001b[39m\u001b[38;5;124mGiova found:\u001b[39m\u001b[38;5;124m\"\u001b[39m, giova)\n\u001b[1;32m      3\u001b[0m \u001b[38;5;28;01melse\u001b[39;00m:\n",
      "\u001b[0;31mNameError\u001b[0m: name 'giova_2' is not defined"
     ]
    }
   ],
   "source": [
    "if giova == giova_2:\n",
    "    print(\"Giova found:\", giova)\n",
    "else:\n",
    "    print(\"Giova not found :(\")"
   ]
  },
  {
   "cell_type": "code",
   "execution_count": 3,
   "metadata": {},
   "outputs": [],
   "source": [
    "df_p_1 = pd.read_csv('data/01_16_2024_14_34_aula2p_15.csv')\n",
    "df_2_p1 = pd.read_csv('data/01_16_2024_14_35_aula2p_15.csv')\n",
    "df_p_2 = pd.read_csv('data/01_16_2024_14_37_aula2p_15.csv')\n",
    "df_wall = pd.read_csv('data/01_16_2024_14_38_aula2p_15.csv')"
   ]
  },
  {
   "cell_type": "markdown",
   "metadata": {},
   "source": [
    "### SNR and RSSI comparison"
   ]
  },
  {
   "cell_type": "code",
   "execution_count": 12,
   "metadata": {},
   "outputs": [],
   "source": [
    "giova = \"8f0bd0d6b55bb218058ed0423ab453b256f5e29d4d514db165023020d0af74ee\""
   ]
  },
  {
   "cell_type": "code",
   "execution_count": 13,
   "metadata": {},
   "outputs": [
    {
     "data": {
      "text/html": [
       "<div>\n",
       "<style scoped>\n",
       "    .dataframe tbody tr th:only-of-type {\n",
       "        vertical-align: middle;\n",
       "    }\n",
       "\n",
       "    .dataframe tbody tr th {\n",
       "        vertical-align: top;\n",
       "    }\n",
       "\n",
       "    .dataframe thead th {\n",
       "        text-align: right;\n",
       "    }\n",
       "</style>\n",
       "<table border=\"1\" class=\"dataframe\">\n",
       "  <thead>\n",
       "    <tr style=\"text-align: right;\">\n",
       "      <th></th>\n",
       "      <th>snr</th>\n",
       "      <th>rssi</th>\n",
       "      <th>name_ap</th>\n",
       "      <th>MAC_masked</th>\n",
       "    </tr>\n",
       "  </thead>\n",
       "  <tbody>\n",
       "    <tr>\n",
       "      <th>6267</th>\n",
       "      <td>41.0</td>\n",
       "      <td>-54.0</td>\n",
       "      <td>AP-AULA2P-01</td>\n",
       "      <td>34a9dea164698cb433dcf4b20943976fc133db4c927005ffc340c4ec380fb18d</td>\n",
       "    </tr>\n",
       "    <tr>\n",
       "      <th>8888</th>\n",
       "      <td>51.0</td>\n",
       "      <td>-47.0</td>\n",
       "      <td>AP-AULA2P-01</td>\n",
       "      <td>4d242b75accc36ca997d3cac12761a7655588715ead833733fd2611a720e1437</td>\n",
       "    </tr>\n",
       "  </tbody>\n",
       "</table>\n",
       "</div>"
      ],
      "text/plain": [
       "       snr  rssi       name_ap  \\\n",
       "6267  41.0 -54.0  AP-AULA2P-01   \n",
       "8888  51.0 -47.0  AP-AULA2P-01   \n",
       "\n",
       "                                                            MAC_masked  \n",
       "6267  34a9dea164698cb433dcf4b20943976fc133db4c927005ffc340c4ec380fb18d  \n",
       "8888  4d242b75accc36ca997d3cac12761a7655588715ead833733fd2611a720e1437  "
      ]
     },
     "execution_count": 13,
     "metadata": {},
     "output_type": "execute_result"
    }
   ],
   "source": [
    "df_conn[df_conn[\"user_masked\"] == giova][[\"snr\", \"rssi\", \"name_ap\", \"MAC_masked\"]]"
   ]
  },
  {
   "cell_type": "code",
   "execution_count": 22,
   "metadata": {},
   "outputs": [
    {
     "data": {
      "text/html": [
       "<div>\n",
       "<style scoped>\n",
       "    .dataframe tbody tr th:only-of-type {\n",
       "        vertical-align: middle;\n",
       "    }\n",
       "\n",
       "    .dataframe tbody tr th {\n",
       "        vertical-align: top;\n",
       "    }\n",
       "\n",
       "    .dataframe thead th {\n",
       "        text-align: right;\n",
       "    }\n",
       "</style>\n",
       "<table border=\"1\" class=\"dataframe\">\n",
       "  <thead>\n",
       "    <tr style=\"text-align: right;\">\n",
       "      <th></th>\n",
       "      <th>snr</th>\n",
       "      <th>rssi</th>\n",
       "      <th>name_ap</th>\n",
       "      <th>MAC_masked</th>\n",
       "    </tr>\n",
       "  </thead>\n",
       "  <tbody>\n",
       "    <tr>\n",
       "      <th>5675</th>\n",
       "      <td>41.0</td>\n",
       "      <td>-54.0</td>\n",
       "      <td>AP-AULA2P-04</td>\n",
       "      <td>34a9dea164698cb433dcf4b20943976fc133db4c927005ffc340c4ec380fb18d</td>\n",
       "    </tr>\n",
       "    <tr>\n",
       "      <th>8058</th>\n",
       "      <td>45.0</td>\n",
       "      <td>-51.0</td>\n",
       "      <td>AP-AULA2P-01</td>\n",
       "      <td>4d242b75accc36ca997d3cac12761a7655588715ead833733fd2611a720e1437</td>\n",
       "    </tr>\n",
       "  </tbody>\n",
       "</table>\n",
       "</div>"
      ],
      "text/plain": [
       "       snr  rssi       name_ap  \\\n",
       "5675  41.0 -54.0  AP-AULA2P-04   \n",
       "8058  45.0 -51.0  AP-AULA2P-01   \n",
       "\n",
       "                                                            MAC_masked  \n",
       "5675  34a9dea164698cb433dcf4b20943976fc133db4c927005ffc340c4ec380fb18d  \n",
       "8058  4d242b75accc36ca997d3cac12761a7655588715ead833733fd2611a720e1437  "
      ]
     },
     "execution_count": 22,
     "metadata": {},
     "output_type": "execute_result"
    }
   ],
   "source": [
    "df_conn_2[df_conn_2[\"user_masked\"] == giova][[\"snr\", \"rssi\", \"name_ap\", \"MAC_masked\"]]"
   ]
  },
  {
   "cell_type": "code",
   "execution_count": 23,
   "metadata": {},
   "outputs": [
    {
     "data": {
      "text/html": [
       "<div>\n",
       "<style scoped>\n",
       "    .dataframe tbody tr th:only-of-type {\n",
       "        vertical-align: middle;\n",
       "    }\n",
       "\n",
       "    .dataframe tbody tr th {\n",
       "        vertical-align: top;\n",
       "    }\n",
       "\n",
       "    .dataframe thead th {\n",
       "        text-align: right;\n",
       "    }\n",
       "</style>\n",
       "<table border=\"1\" class=\"dataframe\">\n",
       "  <thead>\n",
       "    <tr style=\"text-align: right;\">\n",
       "      <th></th>\n",
       "      <th>snr</th>\n",
       "      <th>rssi</th>\n",
       "      <th>name_ap</th>\n",
       "      <th>MAC_masked</th>\n",
       "    </tr>\n",
       "  </thead>\n",
       "  <tbody>\n",
       "    <tr>\n",
       "      <th>6267</th>\n",
       "      <td>41.0</td>\n",
       "      <td>-54.0</td>\n",
       "      <td>AP-AULA2P-01</td>\n",
       "      <td>34a9dea164698cb433dcf4b20943976fc133db4c927005ffc340c4ec380fb18d</td>\n",
       "    </tr>\n",
       "    <tr>\n",
       "      <th>8888</th>\n",
       "      <td>51.0</td>\n",
       "      <td>-47.0</td>\n",
       "      <td>AP-AULA2P-01</td>\n",
       "      <td>4d242b75accc36ca997d3cac12761a7655588715ead833733fd2611a720e1437</td>\n",
       "    </tr>\n",
       "  </tbody>\n",
       "</table>\n",
       "</div>"
      ],
      "text/plain": [
       "       snr  rssi       name_ap  \\\n",
       "6267  41.0 -54.0  AP-AULA2P-01   \n",
       "8888  51.0 -47.0  AP-AULA2P-01   \n",
       "\n",
       "                                                            MAC_masked  \n",
       "6267  34a9dea164698cb433dcf4b20943976fc133db4c927005ffc340c4ec380fb18d  \n",
       "8888  4d242b75accc36ca997d3cac12761a7655588715ead833733fd2611a720e1437  "
      ]
     },
     "execution_count": 23,
     "metadata": {},
     "output_type": "execute_result"
    }
   ],
   "source": [
    "df_p_1[df_p_1[\"user_masked\"] == giova][[\"snr\", \"rssi\", \"name_ap\", \"MAC_masked\"]]"
   ]
  },
  {
   "cell_type": "code",
   "execution_count": 24,
   "metadata": {},
   "outputs": [
    {
     "data": {
      "text/html": [
       "<div>\n",
       "<style scoped>\n",
       "    .dataframe tbody tr th:only-of-type {\n",
       "        vertical-align: middle;\n",
       "    }\n",
       "\n",
       "    .dataframe tbody tr th {\n",
       "        vertical-align: top;\n",
       "    }\n",
       "\n",
       "    .dataframe thead th {\n",
       "        text-align: right;\n",
       "    }\n",
       "</style>\n",
       "<table border=\"1\" class=\"dataframe\">\n",
       "  <thead>\n",
       "    <tr style=\"text-align: right;\">\n",
       "      <th></th>\n",
       "      <th>snr</th>\n",
       "      <th>rssi</th>\n",
       "      <th>name_ap</th>\n",
       "      <th>MAC_masked</th>\n",
       "    </tr>\n",
       "  </thead>\n",
       "  <tbody>\n",
       "    <tr>\n",
       "      <th>6282</th>\n",
       "      <td>41.0</td>\n",
       "      <td>-54.0</td>\n",
       "      <td>AP-AULA2P-01</td>\n",
       "      <td>34a9dea164698cb433dcf4b20943976fc133db4c927005ffc340c4ec380fb18d</td>\n",
       "    </tr>\n",
       "    <tr>\n",
       "      <th>8904</th>\n",
       "      <td>51.0</td>\n",
       "      <td>-47.0</td>\n",
       "      <td>AP-AULA2P-01</td>\n",
       "      <td>4d242b75accc36ca997d3cac12761a7655588715ead833733fd2611a720e1437</td>\n",
       "    </tr>\n",
       "  </tbody>\n",
       "</table>\n",
       "</div>"
      ],
      "text/plain": [
       "       snr  rssi       name_ap  \\\n",
       "6282  41.0 -54.0  AP-AULA2P-01   \n",
       "8904  51.0 -47.0  AP-AULA2P-01   \n",
       "\n",
       "                                                            MAC_masked  \n",
       "6282  34a9dea164698cb433dcf4b20943976fc133db4c927005ffc340c4ec380fb18d  \n",
       "8904  4d242b75accc36ca997d3cac12761a7655588715ead833733fd2611a720e1437  "
      ]
     },
     "execution_count": 24,
     "metadata": {},
     "output_type": "execute_result"
    }
   ],
   "source": [
    "df_2_p1[df_2_p1[\"user_masked\"] == giova][[\"snr\", \"rssi\", \"name_ap\", \"MAC_masked\"]]"
   ]
  },
  {
   "cell_type": "code",
   "execution_count": 25,
   "metadata": {},
   "outputs": [
    {
     "data": {
      "text/html": [
       "<div>\n",
       "<style scoped>\n",
       "    .dataframe tbody tr th:only-of-type {\n",
       "        vertical-align: middle;\n",
       "    }\n",
       "\n",
       "    .dataframe tbody tr th {\n",
       "        vertical-align: top;\n",
       "    }\n",
       "\n",
       "    .dataframe thead th {\n",
       "        text-align: right;\n",
       "    }\n",
       "</style>\n",
       "<table border=\"1\" class=\"dataframe\">\n",
       "  <thead>\n",
       "    <tr style=\"text-align: right;\">\n",
       "      <th></th>\n",
       "      <th>snr</th>\n",
       "      <th>rssi</th>\n",
       "      <th>name_ap</th>\n",
       "      <th>MAC_masked</th>\n",
       "    </tr>\n",
       "  </thead>\n",
       "  <tbody>\n",
       "    <tr>\n",
       "      <th>6282</th>\n",
       "      <td>33.0</td>\n",
       "      <td>-57.0</td>\n",
       "      <td>AP-AULA2P-01</td>\n",
       "      <td>34a9dea164698cb433dcf4b20943976fc133db4c927005ffc340c4ec380fb18d</td>\n",
       "    </tr>\n",
       "    <tr>\n",
       "      <th>8907</th>\n",
       "      <td>51.0</td>\n",
       "      <td>-47.0</td>\n",
       "      <td>AP-AULA2P-01</td>\n",
       "      <td>4d242b75accc36ca997d3cac12761a7655588715ead833733fd2611a720e1437</td>\n",
       "    </tr>\n",
       "  </tbody>\n",
       "</table>\n",
       "</div>"
      ],
      "text/plain": [
       "       snr  rssi       name_ap  \\\n",
       "6282  33.0 -57.0  AP-AULA2P-01   \n",
       "8907  51.0 -47.0  AP-AULA2P-01   \n",
       "\n",
       "                                                            MAC_masked  \n",
       "6282  34a9dea164698cb433dcf4b20943976fc133db4c927005ffc340c4ec380fb18d  \n",
       "8907  4d242b75accc36ca997d3cac12761a7655588715ead833733fd2611a720e1437  "
      ]
     },
     "execution_count": 25,
     "metadata": {},
     "output_type": "execute_result"
    }
   ],
   "source": [
    "df_p_2[df_p_2[\"user_masked\"] == giova][[\"snr\", \"rssi\", \"name_ap\", \"MAC_masked\"]]"
   ]
  },
  {
   "cell_type": "code",
   "execution_count": 26,
   "metadata": {},
   "outputs": [
    {
     "data": {
      "text/html": [
       "<div>\n",
       "<style scoped>\n",
       "    .dataframe tbody tr th:only-of-type {\n",
       "        vertical-align: middle;\n",
       "    }\n",
       "\n",
       "    .dataframe tbody tr th {\n",
       "        vertical-align: top;\n",
       "    }\n",
       "\n",
       "    .dataframe thead th {\n",
       "        text-align: right;\n",
       "    }\n",
       "</style>\n",
       "<table border=\"1\" class=\"dataframe\">\n",
       "  <thead>\n",
       "    <tr style=\"text-align: right;\">\n",
       "      <th></th>\n",
       "      <th>snr</th>\n",
       "      <th>rssi</th>\n",
       "      <th>name_ap</th>\n",
       "      <th>MAC_masked</th>\n",
       "    </tr>\n",
       "  </thead>\n",
       "  <tbody>\n",
       "    <tr>\n",
       "      <th>6269</th>\n",
       "      <td>53.0</td>\n",
       "      <td>-43.0</td>\n",
       "      <td>AP-AULA2P-01</td>\n",
       "      <td>34a9dea164698cb433dcf4b20943976fc133db4c927005ffc340c4ec380fb18d</td>\n",
       "    </tr>\n",
       "    <tr>\n",
       "      <th>8893</th>\n",
       "      <td>51.0</td>\n",
       "      <td>-47.0</td>\n",
       "      <td>AP-AULA2P-01</td>\n",
       "      <td>4d242b75accc36ca997d3cac12761a7655588715ead833733fd2611a720e1437</td>\n",
       "    </tr>\n",
       "  </tbody>\n",
       "</table>\n",
       "</div>"
      ],
      "text/plain": [
       "       snr  rssi       name_ap  \\\n",
       "6269  53.0 -43.0  AP-AULA2P-01   \n",
       "8893  51.0 -47.0  AP-AULA2P-01   \n",
       "\n",
       "                                                            MAC_masked  \n",
       "6269  34a9dea164698cb433dcf4b20943976fc133db4c927005ffc340c4ec380fb18d  \n",
       "8893  4d242b75accc36ca997d3cac12761a7655588715ead833733fd2611a720e1437  "
      ]
     },
     "execution_count": 26,
     "metadata": {},
     "output_type": "execute_result"
    }
   ],
   "source": [
    "df_wall[df_wall[\"user_masked\"] == giova][[\"snr\", \"rssi\", \"name_ap\", \"MAC_masked\"]]"
   ]
  },
  {
   "cell_type": "code",
   "execution_count": 27,
   "metadata": {},
   "outputs": [
    {
     "data": {
      "text/plain": [
       "30.64"
      ]
     },
     "execution_count": 27,
     "metadata": {},
     "output_type": "execute_result"
    }
   ],
   "source": [
    "df_disc_2p[\"snr\"].mean()"
   ]
  },
  {
   "cell_type": "code",
   "execution_count": null,
   "metadata": {},
   "outputs": [],
   "source": []
  }
 ],
 "metadata": {
  "kernelspec": {
   "display_name": ".venv",
   "language": "python",
   "name": "python3"
  },
  "language_info": {
   "codemirror_mode": {
    "name": "ipython",
    "version": 3
   },
   "file_extension": ".py",
   "mimetype": "text/x-python",
   "name": "python",
   "nbconvert_exporter": "python",
   "pygments_lexer": "ipython3",
   "version": "3.11.7"
  }
 },
 "nbformat": 4,
 "nbformat_minor": 2
}
