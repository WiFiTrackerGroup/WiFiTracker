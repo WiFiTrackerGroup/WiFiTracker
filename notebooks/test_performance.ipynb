{
 "cells": [
  {
   "cell_type": "code",
   "execution_count": 2,
   "metadata": {},
   "outputs": [],
   "source": [
    "# Test performance of the counting people\n",
    "import math\n",
    "import numpy as np\n",
    "from sklearn.metrics import mean_absolute_error\n",
    "counted = [53,49,49,14,74,44,88,65,11,9,4,60,7,96,28,36,76,30,1,2,8,3,15,14,40,20,5,9,11,144,142,202,211,86,85,171,76,191,8,101,23,79]\n",
    "predicted = [50,43,44,19,80,40,90,80,9,9,6,78,6,100,36,32,78,39,2,5,4,3,8,17,52,19,6,6,7,135,125,161,176,88,84,143,87,160,6,92,30,83]\n",
    "bad_counted = [44,2,0,0]\n",
    "bad_predicted = [27,13,7,7]"
   ]
  },
  {
   "cell_type": "code",
   "execution_count": 3,
   "metadata": {},
   "outputs": [],
   "source": [
    "def list_div(list, predict, min, max):\n",
    "    out_list = []\n",
    "    predicted_out = []\n",
    "    for i, ele in enumerate(list):\n",
    "        if ele >= min and ele <= max:\n",
    "            out_list.append(ele)\n",
    "            predicted_out.append(predict[i])\n",
    "    return out_list, predicted_out"
   ]
  },
  {
   "cell_type": "code",
   "execution_count": 9,
   "metadata": {},
   "outputs": [],
   "source": [
    "c1, p1 = list_div(counted, predicted,0,40)\n",
    "c2, p2 = list_div(counted, predicted,41,100)\n",
    "c3, p3 = list_div(counted, predicted,101,1000)\n",
    "RMSE1 = math.sqrt(np.square(np.subtract(c1,p1)).mean())\n",
    "RMSE2 = math.sqrt(np.square(np.subtract(c2,p2)).mean())\n",
    "RMSE3 = math.sqrt(np.square(np.subtract(c3,p3)).mean())"
   ]
  },
  {
   "cell_type": "code",
   "execution_count": 10,
   "metadata": {},
   "outputs": [
    {
     "name": "stdout",
     "output_type": "stream",
     "text": [
      "RMSE low crowded:4.894116973712515\n",
      "RMSE medium crowded:7.732122236858021\n",
      "RMSE high crowded:26.997354367736534\n",
      "\n"
     ]
    }
   ],
   "source": [
    "print(f\"RMSE low crowded:{RMSE1}\\nRMSE medium crowded:{RMSE2}\\nRMSE high crowded:{RMSE3}\\n\")"
   ]
  },
  {
   "cell_type": "code",
   "execution_count": 11,
   "metadata": {},
   "outputs": [],
   "source": [
    "MAE1 = mean_absolute_error(c1,p1)\n",
    "MAE2 = mean_absolute_error(c2,p2)\n",
    "MAE3 = mean_absolute_error(c3,p3)"
   ]
  },
  {
   "cell_type": "code",
   "execution_count": 12,
   "metadata": {},
   "outputs": [
    {
     "name": "stdout",
     "output_type": "stream",
     "text": [
      "MAE low crowded:3.761904761904762\n",
      "MAE medium crowded:5.928571428571429\n",
      "MAE high crowded:24.285714285714285\n",
      "\n"
     ]
    }
   ],
   "source": [
    "print(f\"MAE low crowded:{MAE1}\\nMAE medium crowded:{MAE2}\\nMAE high crowded:{MAE3}\\n\")"
   ]
  },
  {
   "cell_type": "code",
   "execution_count": 13,
   "metadata": {},
   "outputs": [
    {
     "name": "stdout",
     "output_type": "stream",
     "text": [
      "N Acquisition low: 21\n",
      "N Acquisition medium: 14\n",
      "N Acquisition high: 7\n",
      "\n"
     ]
    }
   ],
   "source": [
    "print(f\"N Acquisition low: {len(c1)}\\nN Acquisition medium: {len(c2)}\\nN Acquisition high: {len(c3)}\\n\")"
   ]
  },
  {
   "cell_type": "code",
   "execution_count": null,
   "metadata": {},
   "outputs": [],
   "source": []
  }
 ],
 "metadata": {
  "kernelspec": {
   "display_name": "Python 3",
   "language": "python",
   "name": "python3"
  },
  "language_info": {
   "codemirror_mode": {
    "name": "ipython",
    "version": 3
   },
   "file_extension": ".py",
   "mimetype": "text/x-python",
   "name": "python",
   "nbconvert_exporter": "python",
   "pygments_lexer": "ipython3",
   "version": "3.10.12"
  }
 },
 "nbformat": 4,
 "nbformat_minor": 2
}
