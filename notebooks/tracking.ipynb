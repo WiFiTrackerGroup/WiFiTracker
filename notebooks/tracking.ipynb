{
 "cells": [
  {
   "cell_type": "code",
   "execution_count": 154,
   "metadata": {},
   "outputs": [],
   "source": [
    "import os\n",
    "import pandas as pd\n",
    "import matplotlib\n",
    "import numpy as np\n",
    "pd.set_option('display.max_colwidth', None)"
   ]
  },
  {
   "cell_type": "code",
   "execution_count": 7,
   "metadata": {},
   "outputs": [],
   "source": [
    "path = \"data/t_ser_snr/\"\n",
    "dict_t = {}\n",
    "for i, file in enumerate(os.listdir(path)):\n",
    "    df = pd.read_csv(path+file)\n",
    "    df = df[[\"MAC_masked\", \"name_ap\"]]\n",
    "    dict_t[i] = df.to_dict()"
   ]
  },
  {
   "cell_type": "code",
   "execution_count": 161,
   "metadata": {},
   "outputs": [],
   "source": [
    "def room_division(dataRoom):\n",
    "    \"\"\"\n",
    "    room_division\n",
    "    -------------\n",
    "    take all the data and divide the rooms of all PoliTo\n",
    "    ### Output:\n",
    "        - the dataframe with the room divided\n",
    "    \"\"\"\n",
    "    Ap = \"AP-AULA\"\n",
    "    dataRoom = dataRoom[dataRoom[\"name_ap\"].str.contains(Ap)]\n",
    "    rooms = pd.DataFrame()\n",
    "    rooms[[\"AP\",\"Room\", \"APnum\", \"NaN\"]] = dataRoom[\"name_ap\"].str.split(\n",
    "        \"-\", expand=True\n",
    "    )\n",
    "    dataRoom = pd.concat([dataRoom, rooms], axis=1)\n",
    "    dataRoom = dataRoom.drop([\"AP\", \"NaN\"], axis=1)\n",
    "    return dataRoom"
   ]
  },
  {
   "cell_type": "code",
   "execution_count": 162,
   "metadata": {},
   "outputs": [],
   "source": [
    "df_1 = room_division(pd.DataFrame.from_dict(dict_t[0]))\n",
    "df_2 = room_division(pd.DataFrame.from_dict(dict_t[2]))"
   ]
  },
  {
   "cell_type": "code",
   "execution_count": 163,
   "metadata": {},
   "outputs": [],
   "source": [
    "mac_giova =\"34a9dea164698cb433dcf4b20943976fc133db4c927005ffc340c4ec380fb18d\""
   ]
  },
  {
   "cell_type": "code",
   "execution_count": 166,
   "metadata": {},
   "outputs": [],
   "source": [
    "df_moved = df_1.merge(df_2, on=['MAC_masked'], how=\"inner\",indicator=True)"
   ]
  },
  {
   "cell_type": "code",
   "execution_count": 167,
   "metadata": {},
   "outputs": [],
   "source": [
    "df_moved = df_moved.drop([\"name_ap_x\", \"name_ap_y\", \"APnum_x\", \"APnum_y\", \"_merge\"], axis=1)"
   ]
  },
  {
   "cell_type": "code",
   "execution_count": 173,
   "metadata": {},
   "outputs": [],
   "source": [
    "OD_matr =df_moved.assign(count=1).pivot_table(index=\"Room_x\", columns=\"Room_y\", values=\"count\", aggfunc=\"count\").fillna(0)"
   ]
  },
  {
   "cell_type": "code",
   "execution_count": 174,
   "metadata": {},
   "outputs": [],
   "source": [
    "OD_matr.to_csv(\"od.csv\")"
   ]
  },
  {
   "cell_type": "code",
   "execution_count": null,
   "metadata": {},
   "outputs": [],
   "source": []
  },
  {
   "cell_type": "code",
   "execution_count": null,
   "metadata": {},
   "outputs": [],
   "source": []
  }
 ],
 "metadata": {
  "kernelspec": {
   "display_name": ".venv",
   "language": "python",
   "name": "python3"
  },
  "language_info": {
   "codemirror_mode": {
    "name": "ipython",
    "version": 3
   },
   "file_extension": ".py",
   "mimetype": "text/x-python",
   "name": "python",
   "nbconvert_exporter": "python",
   "pygments_lexer": "ipython3",
   "version": "3.11.7"
  }
 },
 "nbformat": 4,
 "nbformat_minor": 2
}
