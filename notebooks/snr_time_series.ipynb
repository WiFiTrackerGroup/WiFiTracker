{
 "cells": [
  {
   "cell_type": "code",
   "execution_count": 1,
   "metadata": {},
   "outputs": [],
   "source": [
    "import os\n",
    "import pandas as pd\n",
    "import matplotlib"
   ]
  },
  {
   "cell_type": "code",
   "execution_count": 7,
   "metadata": {},
   "outputs": [],
   "source": [
    "giova_usr = \"8f0bd0d6b55bb218058ed0423ab453b256f5e29d4d514db165023020d0af74ee\"\n",
    "giova_mac = \"34a9dea164698cb433dcf4b20943976fc133db4c927005ffc340c4ec380fb18d\""
   ]
  },
  {
   "cell_type": "code",
   "execution_count": 8,
   "metadata": {},
   "outputs": [],
   "source": [
    "mov_df = pd.DataFrame()\n",
    "path = \"data/t_ser_snr/\"\n",
    "for i, file in enumerate(os.listdir(path)):\n",
    "    df = pd.read_csv(path+file)\n",
    "    mov_df = pd.concat([mov_df, df[df[\"MAC_masked\"] == giova_mac][[\"snr\", \"rssi\", \"name_ap\"]]], ignore_index=True)\n"
   ]
  },
  {
   "cell_type": "code",
   "execution_count": 9,
   "metadata": {},
   "outputs": [
    {
     "data": {
      "text/html": [
       "<div>\n",
       "<style scoped>\n",
       "    .dataframe tbody tr th:only-of-type {\n",
       "        vertical-align: middle;\n",
       "    }\n",
       "\n",
       "    .dataframe tbody tr th {\n",
       "        vertical-align: top;\n",
       "    }\n",
       "\n",
       "    .dataframe thead th {\n",
       "        text-align: right;\n",
       "    }\n",
       "</style>\n",
       "<table border=\"1\" class=\"dataframe\">\n",
       "  <thead>\n",
       "    <tr style=\"text-align: right;\">\n",
       "      <th></th>\n",
       "      <th>snr</th>\n",
       "      <th>rssi</th>\n",
       "      <th>name_ap</th>\n",
       "    </tr>\n",
       "  </thead>\n",
       "  <tbody>\n",
       "    <tr>\n",
       "      <th>0</th>\n",
       "      <td>35.0</td>\n",
       "      <td>-61.0</td>\n",
       "      <td>AP-AULA1P-02</td>\n",
       "    </tr>\n",
       "    <tr>\n",
       "      <th>1</th>\n",
       "      <td>38.0</td>\n",
       "      <td>-57.0</td>\n",
       "      <td>AP-AULA2P-01</td>\n",
       "    </tr>\n",
       "    <tr>\n",
       "      <th>2</th>\n",
       "      <td>35.0</td>\n",
       "      <td>-63.0</td>\n",
       "      <td>AP-AULA4P-04</td>\n",
       "    </tr>\n",
       "    <tr>\n",
       "      <th>3</th>\n",
       "      <td>36.0</td>\n",
       "      <td>-59.0</td>\n",
       "      <td>AP-AULA2P-01</td>\n",
       "    </tr>\n",
       "    <tr>\n",
       "      <th>4</th>\n",
       "      <td>35.0</td>\n",
       "      <td>-63.0</td>\n",
       "      <td>AP-AULA4P-04</td>\n",
       "    </tr>\n",
       "    <tr>\n",
       "      <th>5</th>\n",
       "      <td>36.0</td>\n",
       "      <td>-59.0</td>\n",
       "      <td>AP-AULA2P-01</td>\n",
       "    </tr>\n",
       "    <tr>\n",
       "      <th>6</th>\n",
       "      <td>35.0</td>\n",
       "      <td>-61.0</td>\n",
       "      <td>AP-AULA2P-01</td>\n",
       "    </tr>\n",
       "    <tr>\n",
       "      <th>7</th>\n",
       "      <td>24.0</td>\n",
       "      <td>-71.0</td>\n",
       "      <td>AP-CORRIDOIO-AULEP</td>\n",
       "    </tr>\n",
       "    <tr>\n",
       "      <th>8</th>\n",
       "      <td>34.0</td>\n",
       "      <td>-61.0</td>\n",
       "      <td>AP-CORRIDOIO-AULEP</td>\n",
       "    </tr>\n",
       "    <tr>\n",
       "      <th>9</th>\n",
       "      <td>29.0</td>\n",
       "      <td>-68.0</td>\n",
       "      <td>AP-CORRIDOIO-AULEP</td>\n",
       "    </tr>\n",
       "    <tr>\n",
       "      <th>10</th>\n",
       "      <td>35.0</td>\n",
       "      <td>-61.0</td>\n",
       "      <td>AP-AULA2P-01</td>\n",
       "    </tr>\n",
       "    <tr>\n",
       "      <th>11</th>\n",
       "      <td>24.0</td>\n",
       "      <td>-71.0</td>\n",
       "      <td>AP-CORRIDOIO-AULEP</td>\n",
       "    </tr>\n",
       "    <tr>\n",
       "      <th>12</th>\n",
       "      <td>24.0</td>\n",
       "      <td>-66.0</td>\n",
       "      <td>AP-AULA1P-02</td>\n",
       "    </tr>\n",
       "    <tr>\n",
       "      <th>13</th>\n",
       "      <td>32.0</td>\n",
       "      <td>-59.0</td>\n",
       "      <td>AP-AULA2P-01</td>\n",
       "    </tr>\n",
       "    <tr>\n",
       "      <th>14</th>\n",
       "      <td>32.0</td>\n",
       "      <td>-59.0</td>\n",
       "      <td>AP-AULA2P-01</td>\n",
       "    </tr>\n",
       "    <tr>\n",
       "      <th>15</th>\n",
       "      <td>19.0</td>\n",
       "      <td>-77.0</td>\n",
       "      <td>AP-CORRIDOIO-AULEP</td>\n",
       "    </tr>\n",
       "    <tr>\n",
       "      <th>16</th>\n",
       "      <td>32.0</td>\n",
       "      <td>-59.0</td>\n",
       "      <td>AP-AULA2P-01</td>\n",
       "    </tr>\n",
       "    <tr>\n",
       "      <th>17</th>\n",
       "      <td>36.0</td>\n",
       "      <td>-59.0</td>\n",
       "      <td>AP-AULA2P-01</td>\n",
       "    </tr>\n",
       "    <tr>\n",
       "      <th>18</th>\n",
       "      <td>34.0</td>\n",
       "      <td>-61.0</td>\n",
       "      <td>AP-CORRIDOIO-AULEP</td>\n",
       "    </tr>\n",
       "    <tr>\n",
       "      <th>19</th>\n",
       "      <td>29.0</td>\n",
       "      <td>-68.0</td>\n",
       "      <td>AP-AULA1P-02</td>\n",
       "    </tr>\n",
       "  </tbody>\n",
       "</table>\n",
       "</div>"
      ],
      "text/plain": [
       "     snr  rssi             name_ap\n",
       "0   35.0 -61.0        AP-AULA1P-02\n",
       "1   38.0 -57.0        AP-AULA2P-01\n",
       "2   35.0 -63.0        AP-AULA4P-04\n",
       "3   36.0 -59.0        AP-AULA2P-01\n",
       "4   35.0 -63.0        AP-AULA4P-04\n",
       "5   36.0 -59.0        AP-AULA2P-01\n",
       "6   35.0 -61.0        AP-AULA2P-01\n",
       "7   24.0 -71.0  AP-CORRIDOIO-AULEP\n",
       "8   34.0 -61.0  AP-CORRIDOIO-AULEP\n",
       "9   29.0 -68.0  AP-CORRIDOIO-AULEP\n",
       "10  35.0 -61.0        AP-AULA2P-01\n",
       "11  24.0 -71.0  AP-CORRIDOIO-AULEP\n",
       "12  24.0 -66.0        AP-AULA1P-02\n",
       "13  32.0 -59.0        AP-AULA2P-01\n",
       "14  32.0 -59.0        AP-AULA2P-01\n",
       "15  19.0 -77.0  AP-CORRIDOIO-AULEP\n",
       "16  32.0 -59.0        AP-AULA2P-01\n",
       "17  36.0 -59.0        AP-AULA2P-01\n",
       "18  34.0 -61.0  AP-CORRIDOIO-AULEP\n",
       "19  29.0 -68.0        AP-AULA1P-02"
      ]
     },
     "execution_count": 9,
     "metadata": {},
     "output_type": "execute_result"
    }
   ],
   "source": [
    "mov_df"
   ]
  },
  {
   "cell_type": "code",
   "execution_count": 10,
   "metadata": {},
   "outputs": [],
   "source": [
    "mov_df_ind = mov_df.reset_index()"
   ]
  },
  {
   "cell_type": "code",
   "execution_count": 11,
   "metadata": {},
   "outputs": [
    {
     "data": {
      "text/plain": [
       "<Axes: >"
      ]
     },
     "execution_count": 11,
     "metadata": {},
     "output_type": "execute_result"
    },
    {
     "data": {
      "image/png": "[encoded data removed]",
      "text/plain": [
       "<Figure size 640x480 with 1 Axes>"
      ]
     },
     "metadata": {},
     "output_type": "display_data"
    }
   ],
   "source": [
    "mov_df_ind[[\"snr\", \"rssi\"]].plot()"
   ]
  },
  {
   "cell_type": "code",
   "execution_count": null,
   "metadata": {},
   "outputs": [],
   "source": []
  }
 ],
 "metadata": {
  "kernelspec": {
   "display_name": ".venv",
   "language": "python",
   "name": "python3"
  },
  "language_info": {
   "codemirror_mode": {
    "name": "ipython",
    "version": 3
   },
   "file_extension": ".py",
   "mimetype": "text/x-python",
   "name": "python",
   "nbconvert_exporter": "python",
   "pygments_lexer": "ipython3",
   "version": "3.11.7"
  }
 },
 "nbformat": 4,
 "nbformat_minor": 2
}
