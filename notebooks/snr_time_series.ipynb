{
 "cells": [
  {
   "cell_type": "code",
   "execution_count": 1,
   "metadata": {},
   "outputs": [],
   "source": [
    "import os\n",
    "import pandas as pd\n",
    "import matplotlib"
   ]
  },
  {
   "cell_type": "code",
   "execution_count": 2,
   "metadata": {},
   "outputs": [],
   "source": [
    "giova_usr = \"a74e472c3aabccfc36c088527061d3b1617d9b922ae75cf9732025e08e31c59c\"\n",
    "giova_mac = \"d7aa1174199824bdd1714a42a057d25e90b2bfafb249ef7fe4840940c2d72609\""
   ]
  },
  {
   "cell_type": "code",
   "execution_count": 18,
   "metadata": {},
   "outputs": [],
   "source": [
    "mov_df = pd.DataFrame()\n",
    "path = \"data/t_ser_snr/\"\n",
    "for i, file in enumerate(os.listdir(path)):\n",
    "    df = pd.read_csv(path+file)\n",
    "    mov_df = pd.concat([mov_df, df[df[\"MAC_masked\"] == giova_mac][[\"snr\", \"rssi\", \"name_ap\"]]], ignore_index=True)\n"
   ]
  },
  {
   "cell_type": "code",
   "execution_count": 27,
   "metadata": {},
   "outputs": [
    {
     "data": {
      "text/html": [
       "<div>\n",
       "<style scoped>\n",
       "    .dataframe tbody tr th:only-of-type {\n",
       "        vertical-align: middle;\n",
       "    }\n",
       "\n",
       "    .dataframe tbody tr th {\n",
       "        vertical-align: top;\n",
       "    }\n",
       "\n",
       "    .dataframe thead th {\n",
       "        text-align: right;\n",
       "    }\n",
       "</style>\n",
       "<table border=\"1\" class=\"dataframe\">\n",
       "  <thead>\n",
       "    <tr style=\"text-align: right;\">\n",
       "      <th></th>\n",
       "      <th>snr</th>\n",
       "      <th>rssi</th>\n",
       "      <th>name_ap</th>\n",
       "    </tr>\n",
       "  </thead>\n",
       "  <tbody>\n",
       "    <tr>\n",
       "      <th>0</th>\n",
       "      <td>53.0</td>\n",
       "      <td>-42.0</td>\n",
       "      <td>AP-AULA2P-03</td>\n",
       "    </tr>\n",
       "    <tr>\n",
       "      <th>1</th>\n",
       "      <td>57.0</td>\n",
       "      <td>-39.0</td>\n",
       "      <td>AP-AULA2P-03</td>\n",
       "    </tr>\n",
       "    <tr>\n",
       "      <th>2</th>\n",
       "      <td>45.0</td>\n",
       "      <td>-45.0</td>\n",
       "      <td>AP-AULA2P-03</td>\n",
       "    </tr>\n",
       "    <tr>\n",
       "      <th>3</th>\n",
       "      <td>45.0</td>\n",
       "      <td>-50.0</td>\n",
       "      <td>AP-AULA2P-03</td>\n",
       "    </tr>\n",
       "    <tr>\n",
       "      <th>4</th>\n",
       "      <td>45.0</td>\n",
       "      <td>-45.0</td>\n",
       "      <td>AP-AULA2P-03</td>\n",
       "    </tr>\n",
       "    <tr>\n",
       "      <th>5</th>\n",
       "      <td>55.0</td>\n",
       "      <td>-41.0</td>\n",
       "      <td>AP-AULA2P-03</td>\n",
       "    </tr>\n",
       "    <tr>\n",
       "      <th>6</th>\n",
       "      <td>45.0</td>\n",
       "      <td>-50.0</td>\n",
       "      <td>AP-AULA2P-03</td>\n",
       "    </tr>\n",
       "    <tr>\n",
       "      <th>7</th>\n",
       "      <td>46.0</td>\n",
       "      <td>-49.0</td>\n",
       "      <td>AP-AULA2P-03</td>\n",
       "    </tr>\n",
       "    <tr>\n",
       "      <th>8</th>\n",
       "      <td>46.0</td>\n",
       "      <td>-49.0</td>\n",
       "      <td>AP-AULA2P-03</td>\n",
       "    </tr>\n",
       "    <tr>\n",
       "      <th>9</th>\n",
       "      <td>55.0</td>\n",
       "      <td>-39.0</td>\n",
       "      <td>AP-AULA2P-03</td>\n",
       "    </tr>\n",
       "    <tr>\n",
       "      <th>10</th>\n",
       "      <td>45.0</td>\n",
       "      <td>-50.0</td>\n",
       "      <td>AP-AULA2P-03</td>\n",
       "    </tr>\n",
       "    <tr>\n",
       "      <th>11</th>\n",
       "      <td>46.0</td>\n",
       "      <td>-49.0</td>\n",
       "      <td>AP-AULA2P-03</td>\n",
       "    </tr>\n",
       "    <tr>\n",
       "      <th>12</th>\n",
       "      <td>55.0</td>\n",
       "      <td>-41.0</td>\n",
       "      <td>AP-AULA2P-03</td>\n",
       "    </tr>\n",
       "    <tr>\n",
       "      <th>13</th>\n",
       "      <td>49.0</td>\n",
       "      <td>-45.0</td>\n",
       "      <td>AP-AULA2P-03</td>\n",
       "    </tr>\n",
       "    <tr>\n",
       "      <th>14</th>\n",
       "      <td>55.0</td>\n",
       "      <td>-41.0</td>\n",
       "      <td>AP-AULA2P-03</td>\n",
       "    </tr>\n",
       "    <tr>\n",
       "      <th>15</th>\n",
       "      <td>45.0</td>\n",
       "      <td>-45.0</td>\n",
       "      <td>AP-AULA2P-03</td>\n",
       "    </tr>\n",
       "    <tr>\n",
       "      <th>16</th>\n",
       "      <td>55.0</td>\n",
       "      <td>-41.0</td>\n",
       "      <td>AP-AULA2P-03</td>\n",
       "    </tr>\n",
       "    <tr>\n",
       "      <th>17</th>\n",
       "      <td>57.0</td>\n",
       "      <td>-39.0</td>\n",
       "      <td>AP-AULA2P-03</td>\n",
       "    </tr>\n",
       "    <tr>\n",
       "      <th>18</th>\n",
       "      <td>53.0</td>\n",
       "      <td>-42.0</td>\n",
       "      <td>AP-AULA2P-03</td>\n",
       "    </tr>\n",
       "    <tr>\n",
       "      <th>19</th>\n",
       "      <td>55.0</td>\n",
       "      <td>-39.0</td>\n",
       "      <td>AP-AULA2P-03</td>\n",
       "    </tr>\n",
       "  </tbody>\n",
       "</table>\n",
       "</div>"
      ],
      "text/plain": [
       "     snr  rssi       name_ap\n",
       "0   53.0 -42.0  AP-AULA2P-03\n",
       "1   57.0 -39.0  AP-AULA2P-03\n",
       "2   45.0 -45.0  AP-AULA2P-03\n",
       "3   45.0 -50.0  AP-AULA2P-03\n",
       "4   45.0 -45.0  AP-AULA2P-03\n",
       "5   55.0 -41.0  AP-AULA2P-03\n",
       "6   45.0 -50.0  AP-AULA2P-03\n",
       "7   46.0 -49.0  AP-AULA2P-03\n",
       "8   46.0 -49.0  AP-AULA2P-03\n",
       "9   55.0 -39.0  AP-AULA2P-03\n",
       "10  45.0 -50.0  AP-AULA2P-03\n",
       "11  46.0 -49.0  AP-AULA2P-03\n",
       "12  55.0 -41.0  AP-AULA2P-03\n",
       "13  49.0 -45.0  AP-AULA2P-03\n",
       "14  55.0 -41.0  AP-AULA2P-03\n",
       "15  45.0 -45.0  AP-AULA2P-03\n",
       "16  55.0 -41.0  AP-AULA2P-03\n",
       "17  57.0 -39.0  AP-AULA2P-03\n",
       "18  53.0 -42.0  AP-AULA2P-03\n",
       "19  55.0 -39.0  AP-AULA2P-03"
      ]
     },
     "execution_count": 27,
     "metadata": {},
     "output_type": "execute_result"
    }
   ],
   "source": [
    "mov_df"
   ]
  },
  {
   "cell_type": "code",
   "execution_count": 20,
   "metadata": {},
   "outputs": [],
   "source": [
    "mov_df_ind = mov_df.reset_index()"
   ]
  },
  {
   "cell_type": "code",
   "execution_count": 24,
   "metadata": {},
   "outputs": [
    {
     "data": {
      "text/plain": [
       "<Axes: >"
      ]
     },
     "execution_count": 24,
     "metadata": {},
     "output_type": "execute_result"
    },
    {
     "data": {
      "image/png": "[encoded data removed]",
      "text/plain": [
       "<Figure size 640x480 with 1 Axes>"
      ]
     },
     "metadata": {},
     "output_type": "display_data"
    }
   ],
   "source": [
    "mov_df_ind[[\"snr\", \"rssi\"]].plot()"
   ]
  },
  {
   "cell_type": "code",
   "execution_count": null,
   "metadata": {},
   "outputs": [],
   "source": []
  }
 ],
 "metadata": {
  "kernelspec": {
   "display_name": ".venv",
   "language": "python",
   "name": "python3"
  },
  "language_info": {
   "codemirror_mode": {
    "name": "ipython",
    "version": 3
   },
   "file_extension": ".py",
   "mimetype": "text/x-python",
   "name": "python",
   "nbconvert_exporter": "python",
   "pygments_lexer": "ipython3",
   "version": "3.11.6"
  }
 },
 "nbformat": 4,
 "nbformat_minor": 2
}
