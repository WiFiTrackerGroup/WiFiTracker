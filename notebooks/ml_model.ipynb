{
 "cells": [
  {
   "cell_type": "code",
   "execution_count": 1,
   "metadata": {},
   "outputs": [],
   "source": [
    "import pandas as pd\n",
    "import numpy as np\n",
    "import os\n",
    "import re"
   ]
  },
  {
   "cell_type": "code",
   "execution_count": 2,
   "metadata": {},
   "outputs": [],
   "source": [
    "def room_division(dataRoom):\n",
    "    \"\"\"\n",
    "    room_division\n",
    "    -------------\n",
    "    take all the data and divide the rooms of all PoliTo\n",
    "    ### Output:\n",
    "        - the dataframe with the room divided\n",
    "    \"\"\"\n",
    "    Ap = \"AP-AULA\"\n",
    "    dataRoom = dataRoom[dataRoom[\"name_ap\"].notnull()]\n",
    "    dataRoom = dataRoom[dataRoom[\"name_ap\"].str.contains(Ap)]\n",
    "    rooms = pd.DataFrame()\n",
    "    rooms[[\"AP\", \"Room\", \"APnum\", \"NaN\"]] = dataRoom[\"name_ap\"].str.split(\n",
    "        \"-\", expand=True\n",
    "    )\n",
    "    dataRoom = pd.concat([dataRoom, rooms], axis=1)\n",
    "    dataRoom = dataRoom.drop([\"AP\", \"NaN\"], axis=1)\n",
    "    return dataRoom"
   ]
  },
  {
   "cell_type": "code",
   "execution_count": 47,
   "metadata": {},
   "outputs": [
    {
     "data": {
      "text/plain": [
       "array(['AULAR4', 'AULA1S', 'AULAR3', 'AULA5T', 'AULA4P', 'AULA3I',\n",
       "       'AULA2I', 'AULA7T', 'AULA3P', 'AULA4I', 'AULA1M', 'AULA12A',\n",
       "       'AULAR1', 'AULA13S', 'AULA05', 'AULA7', 'AULAR2B', 'AULA9T',\n",
       "       'AULAR3B', 'AULA4T', 'AULAR4B', 'AULA1I', 'AULA9I', 'AULA5I',\n",
       "       'AULA2', 'AULA15A', 'AULA10A', 'AULA7S', 'AULA27', 'AULA14',\n",
       "       'AULA16', 'AULA3M', 'AULA4', 'AULA11', 'AULA1P', 'AULA03',\n",
       "       'AULA11S', 'AULA23', 'AULA4N', 'AULA19A', 'AULA11I', 'AULAR1B',\n",
       "       'AULA4M', 'AULASTUDIOR2', 'AULA27B', 'AULA2T', 'AULA10I', 'AULA08',\n",
       "       'AULA12I', 'AULA29B', 'AULA10', 'AULA4C', 'AULA11T', 'AULA2N',\n",
       "       'AULA13', 'AULA8C', 'AULA29', 'AULA2M', 'AULA5S', 'AULA5D',\n",
       "       'AULA01', 'AULA17A', 'AULA7B', 'AULA6', 'AULA6I', 'AULA3D',\n",
       "       'AULA4D', 'AULA3S', 'AULA10D', 'AULA3N', 'AULA5M', 'AULA13B',\n",
       "       'AULASTUDIO3', 'AULA11B', 'AULASTUDIOR1', 'AULA9B', 'AULA6N',\n",
       "       'AULA5B', 'AULA25', 'AULA9S', 'AULA8D', 'AULA5N', 'AULA15',\n",
       "       'AULA1B', 'AULA1T', 'AULA7I', 'AULA2C', 'AULA2D', 'AULA',\n",
       "       'AULA1VM', 'AULA13A', 'AULA2VM', 'AULA7N', 'AULA2P', 'AULA8I',\n",
       "       'AULA6VM', 'AULAR2', 'AULA21A', 'AULA12', 'AULA8N', 'AULA7VM',\n",
       "       'AULAMAGNA05', 'AULAMAGNA06'], dtype=object)"
      ]
     },
     "execution_count": 47,
     "metadata": {},
     "output_type": "execute_result"
    }
   ],
   "source": [
    "df = pd.read_csv(\"ml_data/03_11_2024_11_37_03_AULA3P_54.csv\")\n",
    "df = room_division(df)\n",
    "df[\"Room\"].unique()"
   ]
  },
  {
   "cell_type": "code",
   "execution_count": 3,
   "metadata": {},
   "outputs": [],
   "source": [
    "dataset_dict = {\n",
    "    \"aula\": [],\n",
    "    \"n_devices\": [],\n",
    "    \"n_users\": [],\n",
    "    \"snr_mean\": [],\n",
    "    \"snr_std\": [],\n",
    "    \"rssi_mean\": [],\n",
    "    \"rssi_std\": [],\n",
    "    \"ch_util_2_4_mean\": [],\n",
    "    \"ch_util_5_mean\": [],\n",
    "    \"noise_2_4_mean\": [],\n",
    "    \"noise_5_mean\": [],\n",
    "    \"n_people\": []\n",
    "}\n",
    "\n",
    "path = \"ml_data/\"\n",
    "regex_aula = \"(AULA.+)_\"\n",
    "regex_n_people = \"_([0-9]+)\\.\"\n",
    "\n",
    "\n",
    "for i, file in enumerate(os.listdir(path)):\n",
    "    df = pd.read_csv(path + file)\n",
    "    df.drop(columns=[\"Unnamed: 0\", \"Timestamp_y\", \"ch_2_4\", \"ch_5\", \"class\", \"domain\", \"client_type\", \"code_ap\"], inplace=True)\n",
    "    df = room_division(df)\n",
    "\n",
    "    aula = re.search(regex_aula, file).group(1)\n",
    "    df_aula = df[df[\"Room\"] == aula]\n",
    "\n",
    "    if len(df_aula) == 0:\n",
    "        print(f\"{aula} is empty. Skipping the acquisition!\")\n",
    "        continue\n",
    "    dataset_dict[\"aula\"].append(aula)\n",
    "\n",
    "    # Feature extrapolation\n",
    "    df_dist_ap = df_aula.drop_duplicates(subset=\"APnum\")\n",
    "    n_devices = df_dist_ap[\"n_clients_2_4\"].sum() + df_dist_ap[\"n_clients_5\"].sum()\n",
    "    dataset_dict[\"n_devices\"].append(n_devices)\n",
    "\n",
    "    df_dist_users = df_aula.drop_duplicates(subset=\"user_masked\")\n",
    "    n_users = len(df_dist_users[df_dist_users[\"snr\"] > 20])\n",
    "    dataset_dict[\"n_users\"].append(n_users)\n",
    "\n",
    "    snr_mean = df_aula[\"snr\"].mean()\n",
    "    dataset_dict[\"snr_mean\"].append(snr_mean)\n",
    "    snr_std = df_aula[\"snr\"].std()\n",
    "    dataset_dict[\"snr_std\"].append(snr_std)\n",
    "\n",
    "    rssi_mean = df_aula[\"rssi\"].mean()\n",
    "    dataset_dict[\"rssi_mean\"].append(rssi_mean)\n",
    "    rssi_std = df_aula[\"rssi\"].std()\n",
    "    dataset_dict[\"rssi_std\"].append(rssi_std)\n",
    "\n",
    "    ch_util_2_4_mean = df_dist_ap[\"ch_utilization_2_4\"].mean()\n",
    "    dataset_dict[\"ch_util_2_4_mean\"].append(ch_util_2_4_mean)\n",
    "    ch_util_5_mean = df_dist_ap[\"ch_utilization_5\"].mean()\n",
    "    dataset_dict[\"ch_util_5_mean\"].append(ch_util_5_mean)\n",
    "\n",
    "    noise_2_4_mean = df_dist_ap[\"noise_2_4\"].mean()\n",
    "    dataset_dict[\"noise_2_4_mean\"].append(noise_2_4_mean)\n",
    "    noise_5_mean = df_dist_ap[\"noise_5\"].mean()\n",
    "    dataset_dict[\"noise_5_mean\"].append(noise_5_mean)\n",
    "\n",
    "\n",
    "    x = re.search(regex_n_people, file)\n",
    "    n_people = int(x.group(1))\n",
    "    dataset_dict[\"n_people\"].append(n_people)"
   ]
  },
  {
   "cell_type": "code",
   "execution_count": 4,
   "metadata": {},
   "outputs": [
    {
     "data": {
      "text/html": [
       "<div>\n",
       "<style scoped>\n",
       "    .dataframe tbody tr th:only-of-type {\n",
       "        vertical-align: middle;\n",
       "    }\n",
       "\n",
       "    .dataframe tbody tr th {\n",
       "        vertical-align: top;\n",
       "    }\n",
       "\n",
       "    .dataframe thead th {\n",
       "        text-align: right;\n",
       "    }\n",
       "</style>\n",
       "<table border=\"1\" class=\"dataframe\">\n",
       "  <thead>\n",
       "    <tr style=\"text-align: right;\">\n",
       "      <th></th>\n",
       "      <th>aula</th>\n",
       "      <th>n_devices</th>\n",
       "      <th>n_users</th>\n",
       "      <th>snr_mean</th>\n",
       "      <th>snr_std</th>\n",
       "      <th>rssi_mean</th>\n",
       "      <th>rssi_std</th>\n",
       "      <th>ch_util_2_4_mean</th>\n",
       "      <th>ch_util_5_mean</th>\n",
       "      <th>noise_2_4_mean</th>\n",
       "      <th>noise_5_mean</th>\n",
       "      <th>n_people</th>\n",
       "    </tr>\n",
       "  </thead>\n",
       "  <tbody>\n",
       "    <tr>\n",
       "      <th>0</th>\n",
       "      <td>AULA3I</td>\n",
       "      <td>3.0</td>\n",
       "      <td>2</td>\n",
       "      <td>34.000000</td>\n",
       "      <td>5.567764</td>\n",
       "      <td>-57.666667</td>\n",
       "      <td>5.507571</td>\n",
       "      <td>11.666667</td>\n",
       "      <td>15.000000</td>\n",
       "      <td>-90.333333</td>\n",
       "      <td>-90.333333</td>\n",
       "      <td>2</td>\n",
       "    </tr>\n",
       "    <tr>\n",
       "      <th>1</th>\n",
       "      <td>AULA7S</td>\n",
       "      <td>123.0</td>\n",
       "      <td>84</td>\n",
       "      <td>42.611570</td>\n",
       "      <td>7.513734</td>\n",
       "      <td>-51.115702</td>\n",
       "      <td>6.344538</td>\n",
       "      <td>38.333333</td>\n",
       "      <td>8.333333</td>\n",
       "      <td>-86.500000</td>\n",
       "      <td>-93.666667</td>\n",
       "      <td>127</td>\n",
       "    </tr>\n",
       "    <tr>\n",
       "      <th>2</th>\n",
       "      <td>AULA3P</td>\n",
       "      <td>122.0</td>\n",
       "      <td>87</td>\n",
       "      <td>40.188034</td>\n",
       "      <td>6.497920</td>\n",
       "      <td>-51.393162</td>\n",
       "      <td>5.997064</td>\n",
       "      <td>32.500000</td>\n",
       "      <td>27.500000</td>\n",
       "      <td>-84.500000</td>\n",
       "      <td>-92.250000</td>\n",
       "      <td>111</td>\n",
       "    </tr>\n",
       "    <tr>\n",
       "      <th>3</th>\n",
       "      <td>AULAR2</td>\n",
       "      <td>183.0</td>\n",
       "      <td>112</td>\n",
       "      <td>36.335196</td>\n",
       "      <td>7.321620</td>\n",
       "      <td>-53.027933</td>\n",
       "      <td>6.093310</td>\n",
       "      <td>37.750000</td>\n",
       "      <td>5.500000</td>\n",
       "      <td>-81.000000</td>\n",
       "      <td>-90.500000</td>\n",
       "      <td>150</td>\n",
       "    </tr>\n",
       "    <tr>\n",
       "      <th>4</th>\n",
       "      <td>AULA3I</td>\n",
       "      <td>6.0</td>\n",
       "      <td>4</td>\n",
       "      <td>34.800000</td>\n",
       "      <td>4.438468</td>\n",
       "      <td>-57.400000</td>\n",
       "      <td>4.449719</td>\n",
       "      <td>15.333333</td>\n",
       "      <td>5.333333</td>\n",
       "      <td>-93.666667</td>\n",
       "      <td>-89.666667</td>\n",
       "      <td>3</td>\n",
       "    </tr>\n",
       "    <tr>\n",
       "      <th>...</th>\n",
       "      <td>...</td>\n",
       "      <td>...</td>\n",
       "      <td>...</td>\n",
       "      <td>...</td>\n",
       "      <td>...</td>\n",
       "      <td>...</td>\n",
       "      <td>...</td>\n",
       "      <td>...</td>\n",
       "      <td>...</td>\n",
       "      <td>...</td>\n",
       "      <td>...</td>\n",
       "      <td>...</td>\n",
       "    </tr>\n",
       "    <tr>\n",
       "      <th>63</th>\n",
       "      <td>AULAR4</td>\n",
       "      <td>90.0</td>\n",
       "      <td>60</td>\n",
       "      <td>38.858824</td>\n",
       "      <td>5.486245</td>\n",
       "      <td>-51.294118</td>\n",
       "      <td>5.254983</td>\n",
       "      <td>50.250000</td>\n",
       "      <td>16.250000</td>\n",
       "      <td>-90.500000</td>\n",
       "      <td>-92.750000</td>\n",
       "      <td>76</td>\n",
       "    </tr>\n",
       "    <tr>\n",
       "      <th>64</th>\n",
       "      <td>AULA2P</td>\n",
       "      <td>85.0</td>\n",
       "      <td>59</td>\n",
       "      <td>42.240964</td>\n",
       "      <td>7.032313</td>\n",
       "      <td>-51.156627</td>\n",
       "      <td>7.106304</td>\n",
       "      <td>35.000000</td>\n",
       "      <td>5.250000</td>\n",
       "      <td>-83.000000</td>\n",
       "      <td>-93.500000</td>\n",
       "      <td>80</td>\n",
       "    </tr>\n",
       "    <tr>\n",
       "      <th>65</th>\n",
       "      <td>AULA11S</td>\n",
       "      <td>35.0</td>\n",
       "      <td>21</td>\n",
       "      <td>36.875000</td>\n",
       "      <td>8.507113</td>\n",
       "      <td>-54.687500</td>\n",
       "      <td>7.689278</td>\n",
       "      <td>46.000000</td>\n",
       "      <td>14.000000</td>\n",
       "      <td>-86.000000</td>\n",
       "      <td>-90.000000</td>\n",
       "      <td>23</td>\n",
       "    </tr>\n",
       "    <tr>\n",
       "      <th>66</th>\n",
       "      <td>AULA9I</td>\n",
       "      <td>29.0</td>\n",
       "      <td>18</td>\n",
       "      <td>31.285714</td>\n",
       "      <td>7.437927</td>\n",
       "      <td>-60.892857</td>\n",
       "      <td>6.511183</td>\n",
       "      <td>14.000000</td>\n",
       "      <td>3.500000</td>\n",
       "      <td>-92.000000</td>\n",
       "      <td>-90.000000</td>\n",
       "      <td>18</td>\n",
       "    </tr>\n",
       "    <tr>\n",
       "      <th>67</th>\n",
       "      <td>AULA2P</td>\n",
       "      <td>83.0</td>\n",
       "      <td>58</td>\n",
       "      <td>42.172840</td>\n",
       "      <td>7.008549</td>\n",
       "      <td>-51.234568</td>\n",
       "      <td>6.708710</td>\n",
       "      <td>35.250000</td>\n",
       "      <td>7.750000</td>\n",
       "      <td>-81.500000</td>\n",
       "      <td>-93.000000</td>\n",
       "      <td>77</td>\n",
       "    </tr>\n",
       "  </tbody>\n",
       "</table>\n",
       "<p>68 rows × 12 columns</p>\n",
       "</div>"
      ],
      "text/plain": [
       "       aula  n_devices  n_users   snr_mean   snr_std  rssi_mean  rssi_std  \\\n",
       "0    AULA3I        3.0        2  34.000000  5.567764 -57.666667  5.507571   \n",
       "1    AULA7S      123.0       84  42.611570  7.513734 -51.115702  6.344538   \n",
       "2    AULA3P      122.0       87  40.188034  6.497920 -51.393162  5.997064   \n",
       "3    AULAR2      183.0      112  36.335196  7.321620 -53.027933  6.093310   \n",
       "4    AULA3I        6.0        4  34.800000  4.438468 -57.400000  4.449719   \n",
       "..      ...        ...      ...        ...       ...        ...       ...   \n",
       "63   AULAR4       90.0       60  38.858824  5.486245 -51.294118  5.254983   \n",
       "64   AULA2P       85.0       59  42.240964  7.032313 -51.156627  7.106304   \n",
       "65  AULA11S       35.0       21  36.875000  8.507113 -54.687500  7.689278   \n",
       "66   AULA9I       29.0       18  31.285714  7.437927 -60.892857  6.511183   \n",
       "67   AULA2P       83.0       58  42.172840  7.008549 -51.234568  6.708710   \n",
       "\n",
       "    ch_util_2_4_mean  ch_util_5_mean  noise_2_4_mean  noise_5_mean  n_people  \n",
       "0          11.666667       15.000000      -90.333333    -90.333333         2  \n",
       "1          38.333333        8.333333      -86.500000    -93.666667       127  \n",
       "2          32.500000       27.500000      -84.500000    -92.250000       111  \n",
       "3          37.750000        5.500000      -81.000000    -90.500000       150  \n",
       "4          15.333333        5.333333      -93.666667    -89.666667         3  \n",
       "..               ...             ...             ...           ...       ...  \n",
       "63         50.250000       16.250000      -90.500000    -92.750000        76  \n",
       "64         35.000000        5.250000      -83.000000    -93.500000        80  \n",
       "65         46.000000       14.000000      -86.000000    -90.000000        23  \n",
       "66         14.000000        3.500000      -92.000000    -90.000000        18  \n",
       "67         35.250000        7.750000      -81.500000    -93.000000        77  \n",
       "\n",
       "[68 rows x 12 columns]"
      ]
     },
     "execution_count": 4,
     "metadata": {},
     "output_type": "execute_result"
    }
   ],
   "source": [
    "dataset = pd.DataFrame.from_dict(dataset_dict)\n",
    "dataset"
   ]
  },
  {
   "cell_type": "code",
   "execution_count": 6,
   "metadata": {},
   "outputs": [
    {
     "data": {
      "text/plain": [
       "<Axes: >"
      ]
     },
     "execution_count": 6,
     "metadata": {},
     "output_type": "execute_result"
    },
    {
     "data": {
      "image/png": "[encoded data removed]",
      "text/plain": [
       "<Figure size 640x480 with 1 Axes>"
      ]
     },
     "metadata": {},
     "output_type": "display_data"
    }
   ],
   "source": [
    "dataset[\"n_people\"].hist(bins=100)"
   ]
  },
  {
   "cell_type": "markdown",
   "metadata": {},
   "source": [
    "#### Comparison with baseline"
   ]
  },
  {
   "cell_type": "code",
   "execution_count": 5,
   "metadata": {},
   "outputs": [
    {
     "name": "stdout",
     "output_type": "stream",
     "text": [
      "r2: 0.7415100246733681\n",
      "MAPE:  132458812569720.86\n"
     ]
    }
   ],
   "source": [
    "from sklearn.metrics import r2_score\n",
    "from sklearn.metrics import mean_absolute_percentage_error\n",
    "\n",
    "print(\"r2:\",r2_score(dataset[\"n_people\"], dataset[\"n_users\"]))\n",
    "print(\"MAPE: \",mean_absolute_percentage_error(dataset[\"n_people\"], dataset[\"n_users\"]) )"
   ]
  },
  {
   "cell_type": "code",
   "execution_count": 6,
   "metadata": {},
   "outputs": [],
   "source": [
    "y = dataset[\"n_people\"].to_numpy()# + (np.random.rand(len(dataset)) * 0.001)\n",
    "dataset.drop([\"aula\", \"n_people\"], axis=1, inplace=True)\n",
    "X = dataset.to_numpy()# + (np.random.rand(len(dataset), len(dataset.columns)) * 0.001)"
   ]
  },
  {
   "cell_type": "markdown",
   "metadata": {},
   "source": [
    "### TODO\n",
    "- Choice of regression model at this [link](https://medium.com/@dnyaneshwalwadkar/regression-a-to-z-choosing-the-correct-type-of-regression-analysis-4cfb29ae5a1)\n",
    "- Cross validation [here](https://scikit-learn.org/stable/modules/cross_validation.html)"
   ]
  },
  {
   "cell_type": "code",
   "execution_count": 7,
   "metadata": {},
   "outputs": [],
   "source": [
    "from sklearn.model_selection import train_test_split"
   ]
  },
  {
   "cell_type": "markdown",
   "metadata": {},
   "source": [
    "#### Static split"
   ]
  },
  {
   "cell_type": "code",
   "execution_count": 8,
   "metadata": {},
   "outputs": [
    {
     "name": "stdout",
     "output_type": "stream",
     "text": [
      "Train shape:  (64, 10)\n",
      "Test shape:  (4, 10)\n"
     ]
    },
    {
     "data": {
      "text/plain": [
       "array([85,  0, 35, 70])"
      ]
     },
     "execution_count": 8,
     "metadata": {},
     "output_type": "execute_result"
    }
   ],
   "source": [
    "X_train, X_test, y_train, y_test = train_test_split(X, y, test_size=0.05)\n",
    "print(\"Train shape: \", X_train.shape)\n",
    "print(\"Test shape: \", X_test.shape)\n",
    "y_test"
   ]
  },
  {
   "cell_type": "markdown",
   "metadata": {},
   "source": [
    "#### Linear regression"
   ]
  },
  {
   "cell_type": "code",
   "execution_count": 184,
   "metadata": {},
   "outputs": [],
   "source": [
    "from sklearn.linear_model import LinearRegression"
   ]
  },
  {
   "cell_type": "code",
   "execution_count": 185,
   "metadata": {},
   "outputs": [],
   "source": [
    "lin_reg_model = LinearRegression()\n",
    "fitted = lin_reg_model.fit(X_train, y_train)"
   ]
  },
  {
   "cell_type": "code",
   "execution_count": 186,
   "metadata": {},
   "outputs": [
    {
     "name": "stdout",
     "output_type": "stream",
     "text": [
      "R2 train:  0.850963234660372\n",
      "R2 test:  0.4495693678889877\n"
     ]
    },
    {
     "data": {
      "text/plain": [
       "array([ 86.15192696,  19.52256297, 108.60889475, 112.35455032])"
      ]
     },
     "execution_count": 186,
     "metadata": {},
     "output_type": "execute_result"
    }
   ],
   "source": [
    "print(\"R2 train: \", fitted.score(X_train, y_train))\n",
    "print(\"R2 test: \", fitted.score(X_test, y_test))\n",
    "fitted.predict(X_test)"
   ]
  },
  {
   "cell_type": "markdown",
   "metadata": {},
   "source": [
    "#### Cross validation"
   ]
  },
  {
   "cell_type": "code",
   "execution_count": 15,
   "metadata": {},
   "outputs": [],
   "source": [
    "from sklearn.model_selection import cross_val_score, ShuffleSplit\n",
    "cv = ShuffleSplit(n_splits=3, test_size=0.1)\n"
   ]
  },
  {
   "cell_type": "code",
   "execution_count": 172,
   "metadata": {},
   "outputs": [
    {
     "data": {
      "text/plain": [
       "array([ 0.86168981,  0.19272549, -0.56853424])"
      ]
     },
     "execution_count": 172,
     "metadata": {},
     "output_type": "execute_result"
    }
   ],
   "source": [
    "scores = cross_val_score(lin_reg_model, X, y, cv=cv)\n",
    "scores"
   ]
  },
  {
   "cell_type": "code",
   "execution_count": 136,
   "metadata": {},
   "outputs": [
    {
     "data": {
      "text/plain": [
       "0.4770581953318645"
      ]
     },
     "execution_count": 136,
     "metadata": {},
     "output_type": "execute_result"
    }
   ],
   "source": [
    "mean_absolute_percentage_error(y_test, fitted.predict(X_test))"
   ]
  },
  {
   "cell_type": "markdown",
   "metadata": {},
   "source": [
    "### Gaussian process regression"
   ]
  },
  {
   "cell_type": "code",
   "execution_count": 93,
   "metadata": {},
   "outputs": [],
   "source": [
    "from sklearn.gaussian_process import GaussianProcessRegressor"
   ]
  },
  {
   "cell_type": "code",
   "execution_count": 94,
   "metadata": {},
   "outputs": [
    {
     "data": {
      "text/plain": [
       "array([1.14000816e+02, 1.50000209e+01, 2.00055481e+00, 1.23000620e+02,\n",
       "       7.60001521e+01, 1.49000716e+02, 6.10001862e+01, 1.19000621e+02,\n",
       "       8.20005418e+01, 3.50003413e+01, 7.20008822e+01, 1.80005119e+01,\n",
       "       7.50005808e+01, 8.30008379e+01, 5.40006554e+01, 1.27000426e+02,\n",
       "       1.00011854e+00, 7.60001584e+01, 4.50003718e+01, 3.00069660e+00,\n",
       "       6.00070489e+00, 1.92000115e+02, 7.10002977e+01, 3.00087187e+00,\n",
       "       5.00052180e+00, 1.80009710e+01, 8.00027382e+00, 7.30002472e+01,\n",
       "       7.30009476e+01, 9.40843851e-04, 2.47000659e+02, 7.20009686e+01,\n",
       "       7.00064320e+00, 1.10006784e+01, 1.44000530e+02, 2.30002430e+01,\n",
       "       9.10008646e+01, 7.70004105e+01, 8.70006438e+01, 1.01000540e+02,\n",
       "       8.50005064e+01, 1.06000951e+02, 7.50000847e+01, 3.50000112e+01,\n",
       "       8.90009931e+01, 3.00032692e+00, 7.70003715e+01, 1.60006390e+01,\n",
       "       1.37000016e+02, 1.25000441e+02, 2.00092936e+00, 4.60003342e+01,\n",
       "       1.11000727e+02, 1.32000625e+02, 8.20005761e+01])"
      ]
     },
     "execution_count": 94,
     "metadata": {},
     "output_type": "execute_result"
    }
   ],
   "source": [
    "gaus_reg_model = GaussianProcessRegressor()\n",
    "fitted = gaus_reg_model.fit(X_train, y_train)\n",
    "fitted.score(X_test, y_test)\n",
    "fitted.predict(X_train)"
   ]
  },
  {
   "cell_type": "code",
   "execution_count": 95,
   "metadata": {},
   "outputs": [
    {
     "data": {
      "text/plain": [
       "array([-1.35590373, -2.66667525, -4.11816341])"
      ]
     },
     "execution_count": 95,
     "metadata": {},
     "output_type": "execute_result"
    }
   ],
   "source": [
    "scores = cross_val_score(gaus_reg_model, X, y, cv=cv)\n",
    "scores"
   ]
  },
  {
   "cell_type": "code",
   "execution_count": 96,
   "metadata": {},
   "outputs": [
    {
     "data": {
      "text/plain": [
       "9.999999050922895e-11"
      ]
     },
     "execution_count": 96,
     "metadata": {},
     "output_type": "execute_result"
    }
   ],
   "source": [
    "from sklearn.metrics import mean_absolute_percentage_error\n",
    "mean_absolute_percentage_error(y_train, fitted.predict(X_train))"
   ]
  },
  {
   "cell_type": "markdown",
   "metadata": {},
   "source": [
    "### Random Forest Regressor"
   ]
  },
  {
   "cell_type": "code",
   "execution_count": 12,
   "metadata": {},
   "outputs": [],
   "source": [
    "from sklearn.ensemble import RandomForestRegressor\n",
    "from sklearn.model_selection import cross_val_score, ShuffleSplit\n"
   ]
  },
  {
   "cell_type": "code",
   "execution_count": 10,
   "metadata": {},
   "outputs": [],
   "source": [
    "rf_regr = RandomForestRegressor()\n",
    "fitted_rf = rf_regr.fit(X,y)"
   ]
  },
  {
   "cell_type": "code",
   "execution_count": 20,
   "metadata": {},
   "outputs": [],
   "source": [
    "cv = ShuffleSplit(n_splits=3, test_size=0.1)\n",
    "scores = cross_val_score(rf_regr, X, y, cv=cv)"
   ]
  },
  {
   "cell_type": "code",
   "execution_count": 21,
   "metadata": {},
   "outputs": [
    {
     "data": {
      "text/plain": [
       "array([0.81454182, 0.92142385, 0.93112278])"
      ]
     },
     "execution_count": 21,
     "metadata": {},
     "output_type": "execute_result"
    }
   ],
   "source": [
    "scores"
   ]
  },
  {
   "cell_type": "code",
   "execution_count": 27,
   "metadata": {},
   "outputs": [
    {
     "name": "stdout",
     "output_type": "stream",
     "text": [
      "1306043891937443.8\n",
      "0.9776160462427745\n"
     ]
    }
   ],
   "source": [
    "from sklearn.metrics import mean_absolute_percentage_error, r2_score\n",
    "print(mean_absolute_percentage_error(y_test, fitted_rf.predict(X_test)))\n",
    "print(r2_score(y_test, fitted_rf.predict(X_test)))\n"
   ]
  },
  {
   "cell_type": "code",
   "execution_count": 28,
   "metadata": {},
   "outputs": [
    {
     "data": {
      "text/plain": [
       "array([ 12.07, 176.32])"
      ]
     },
     "execution_count": 28,
     "metadata": {},
     "output_type": "execute_result"
    }
   ],
   "source": [
    "i = 25\n",
    "fitted_rf.predict(X_train[i:27,:])"
   ]
  },
  {
   "cell_type": "code",
   "execution_count": 29,
   "metadata": {},
   "outputs": [
    {
     "data": {
      "text/plain": [
       "array([  8, 172])"
      ]
     },
     "execution_count": 29,
     "metadata": {},
     "output_type": "execute_result"
    }
   ],
   "source": [
    "y_train[i:27]"
   ]
  },
  {
   "cell_type": "code",
   "execution_count": 32,
   "metadata": {},
   "outputs": [],
   "source": [
    "import pickle\n",
    "pickle.dump(fitted_rf, open(\"../Service/sub/ml_models/random_forest.sav\", 'wb'))"
   ]
  },
  {
   "cell_type": "code",
   "execution_count": 33,
   "metadata": {},
   "outputs": [],
   "source": [
    "load_model = pickle.load(open(\"../Service/sub/ml_models/random_forest.sav\",'rb'))"
   ]
  },
  {
   "cell_type": "code",
   "execution_count": 34,
   "metadata": {},
   "outputs": [
    {
     "data": {
      "text/html": [
       "<style>#sk-container-id-1 {\n",
       "  /* Definition of color scheme common for light and dark mode */\n",
       "  --sklearn-color-text: black;\n",
       "  --sklearn-color-line: gray;\n",
       "  /* Definition of color scheme for unfitted estimators */\n",
       "  --sklearn-color-unfitted-level-0: #fff5e6;\n",
       "  --sklearn-color-unfitted-level-1: #f6e4d2;\n",
       "  --sklearn-color-unfitted-level-2: #ffe0b3;\n",
       "  --sklearn-color-unfitted-level-3: chocolate;\n",
       "  /* Definition of color scheme for fitted estimators */\n",
       "  --sklearn-color-fitted-level-0: #f0f8ff;\n",
       "  --sklearn-color-fitted-level-1: #d4ebff;\n",
       "  --sklearn-color-fitted-level-2: #b3dbfd;\n",
       "  --sklearn-color-fitted-level-3: cornflowerblue;\n",
       "\n",
       "  /* Specific color for light theme */\n",
       "  --sklearn-color-text-on-default-background: var(--sg-text-color, var(--theme-code-foreground, var(--jp-content-font-color1, black)));\n",
       "  --sklearn-color-background: var(--sg-background-color, var(--theme-background, var(--jp-layout-color0, white)));\n",
       "  --sklearn-color-border-box: var(--sg-text-color, var(--theme-code-foreground, var(--jp-content-font-color1, black)));\n",
       "  --sklearn-color-icon: #696969;\n",
       "\n",
       "  @media (prefers-color-scheme: dark) {\n",
       "    /* Redefinition of color scheme for dark theme */\n",
       "    --sklearn-color-text-on-default-background: var(--sg-text-color, var(--theme-code-foreground, var(--jp-content-font-color1, white)));\n",
       "    --sklearn-color-background: var(--sg-background-color, var(--theme-background, var(--jp-layout-color0, #111)));\n",
       "    --sklearn-color-border-box: var(--sg-text-color, var(--theme-code-foreground, var(--jp-content-font-color1, white)));\n",
       "    --sklearn-color-icon: #878787;\n",
       "  }\n",
       "}\n",
       "\n",
       "#sk-container-id-1 {\n",
       "  color: var(--sklearn-color-text);\n",
       "}\n",
       "\n",
       "#sk-container-id-1 pre {\n",
       "  padding: 0;\n",
       "}\n",
       "\n",
       "#sk-container-id-1 input.sk-hidden--visually {\n",
       "  border: 0;\n",
       "  clip: rect(1px 1px 1px 1px);\n",
       "  clip: rect(1px, 1px, 1px, 1px);\n",
       "  height: 1px;\n",
       "  margin: -1px;\n",
       "  overflow: hidden;\n",
       "  padding: 0;\n",
       "  position: absolute;\n",
       "  width: 1px;\n",
       "}\n",
       "\n",
       "#sk-container-id-1 div.sk-dashed-wrapped {\n",
       "  border: 1px dashed var(--sklearn-color-line);\n",
       "  margin: 0 0.4em 0.5em 0.4em;\n",
       "  box-sizing: border-box;\n",
       "  padding-bottom: 0.4em;\n",
       "  background-color: var(--sklearn-color-background);\n",
       "}\n",
       "\n",
       "#sk-container-id-1 div.sk-container {\n",
       "  /* jupyter's `normalize.less` sets `[hidden] { display: none; }`\n",
       "     but bootstrap.min.css set `[hidden] { display: none !important; }`\n",
       "     so we also need the `!important` here to be able to override the\n",
       "     default hidden behavior on the sphinx rendered scikit-learn.org.\n",
       "     See: https://github.com/scikit-learn/scikit-learn/issues/21755 */\n",
       "  display: inline-block !important;\n",
       "  position: relative;\n",
       "}\n",
       "\n",
       "#sk-container-id-1 div.sk-text-repr-fallback {\n",
       "  display: none;\n",
       "}\n",
       "\n",
       "div.sk-parallel-item,\n",
       "div.sk-serial,\n",
       "div.sk-item {\n",
       "  /* draw centered vertical line to link estimators */\n",
       "  background-image: linear-gradient(var(--sklearn-color-text-on-default-background), var(--sklearn-color-text-on-default-background));\n",
       "  background-size: 2px 100%;\n",
       "  background-repeat: no-repeat;\n",
       "  background-position: center center;\n",
       "}\n",
       "\n",
       "/* Parallel-specific style estimator block */\n",
       "\n",
       "#sk-container-id-1 div.sk-parallel-item::after {\n",
       "  content: \"\";\n",
       "  width: 100%;\n",
       "  border-bottom: 2px solid var(--sklearn-color-text-on-default-background);\n",
       "  flex-grow: 1;\n",
       "}\n",
       "\n",
       "#sk-container-id-1 div.sk-parallel {\n",
       "  display: flex;\n",
       "  align-items: stretch;\n",
       "  justify-content: center;\n",
       "  background-color: var(--sklearn-color-background);\n",
       "  position: relative;\n",
       "}\n",
       "\n",
       "#sk-container-id-1 div.sk-parallel-item {\n",
       "  display: flex;\n",
       "  flex-direction: column;\n",
       "}\n",
       "\n",
       "#sk-container-id-1 div.sk-parallel-item:first-child::after {\n",
       "  align-self: flex-end;\n",
       "  width: 50%;\n",
       "}\n",
       "\n",
       "#sk-container-id-1 div.sk-parallel-item:last-child::after {\n",
       "  align-self: flex-start;\n",
       "  width: 50%;\n",
       "}\n",
       "\n",
       "#sk-container-id-1 div.sk-parallel-item:only-child::after {\n",
       "  width: 0;\n",
       "}\n",
       "\n",
       "/* Serial-specific style estimator block */\n",
       "\n",
       "#sk-container-id-1 div.sk-serial {\n",
       "  display: flex;\n",
       "  flex-direction: column;\n",
       "  align-items: center;\n",
       "  background-color: var(--sklearn-color-background);\n",
       "  padding-right: 1em;\n",
       "  padding-left: 1em;\n",
       "}\n",
       "\n",
       "\n",
       "/* Toggleable style: style used for estimator/Pipeline/ColumnTransformer box that is\n",
       "clickable and can be expanded/collapsed.\n",
       "- Pipeline and ColumnTransformer use this feature and define the default style\n",
       "- Estimators will overwrite some part of the style using the `sk-estimator` class\n",
       "*/\n",
       "\n",
       "/* Pipeline and ColumnTransformer style (default) */\n",
       "\n",
       "#sk-container-id-1 div.sk-toggleable {\n",
       "  /* Default theme specific background. It is overwritten whether we have a\n",
       "  specific estimator or a Pipeline/ColumnTransformer */\n",
       "  background-color: var(--sklearn-color-background);\n",
       "}\n",
       "\n",
       "/* Toggleable label */\n",
       "#sk-container-id-1 label.sk-toggleable__label {\n",
       "  cursor: pointer;\n",
       "  display: block;\n",
       "  width: 100%;\n",
       "  margin-bottom: 0;\n",
       "  padding: 0.5em;\n",
       "  box-sizing: border-box;\n",
       "  text-align: center;\n",
       "}\n",
       "\n",
       "#sk-container-id-1 label.sk-toggleable__label-arrow:before {\n",
       "  /* Arrow on the left of the label */\n",
       "  content: \"▸\";\n",
       "  float: left;\n",
       "  margin-right: 0.25em;\n",
       "  color: var(--sklearn-color-icon);\n",
       "}\n",
       "\n",
       "#sk-container-id-1 label.sk-toggleable__label-arrow:hover:before {\n",
       "  color: var(--sklearn-color-text);\n",
       "}\n",
       "\n",
       "/* Toggleable content - dropdown */\n",
       "\n",
       "#sk-container-id-1 div.sk-toggleable__content {\n",
       "  max-height: 0;\n",
       "  max-width: 0;\n",
       "  overflow: hidden;\n",
       "  text-align: left;\n",
       "  /* unfitted */\n",
       "  background-color: var(--sklearn-color-unfitted-level-0);\n",
       "}\n",
       "\n",
       "#sk-container-id-1 div.sk-toggleable__content.fitted {\n",
       "  /* fitted */\n",
       "  background-color: var(--sklearn-color-fitted-level-0);\n",
       "}\n",
       "\n",
       "#sk-container-id-1 div.sk-toggleable__content pre {\n",
       "  margin: 0.2em;\n",
       "  border-radius: 0.25em;\n",
       "  color: var(--sklearn-color-text);\n",
       "  /* unfitted */\n",
       "  background-color: var(--sklearn-color-unfitted-level-0);\n",
       "}\n",
       "\n",
       "#sk-container-id-1 div.sk-toggleable__content.fitted pre {\n",
       "  /* unfitted */\n",
       "  background-color: var(--sklearn-color-fitted-level-0);\n",
       "}\n",
       "\n",
       "#sk-container-id-1 input.sk-toggleable__control:checked~div.sk-toggleable__content {\n",
       "  /* Expand drop-down */\n",
       "  max-height: 200px;\n",
       "  max-width: 100%;\n",
       "  overflow: auto;\n",
       "}\n",
       "\n",
       "#sk-container-id-1 input.sk-toggleable__control:checked~label.sk-toggleable__label-arrow:before {\n",
       "  content: \"▾\";\n",
       "}\n",
       "\n",
       "/* Pipeline/ColumnTransformer-specific style */\n",
       "\n",
       "#sk-container-id-1 div.sk-label input.sk-toggleable__control:checked~label.sk-toggleable__label {\n",
       "  color: var(--sklearn-color-text);\n",
       "  background-color: var(--sklearn-color-unfitted-level-2);\n",
       "}\n",
       "\n",
       "#sk-container-id-1 div.sk-label.fitted input.sk-toggleable__control:checked~label.sk-toggleable__label {\n",
       "  background-color: var(--sklearn-color-fitted-level-2);\n",
       "}\n",
       "\n",
       "/* Estimator-specific style */\n",
       "\n",
       "/* Colorize estimator box */\n",
       "#sk-container-id-1 div.sk-estimator input.sk-toggleable__control:checked~label.sk-toggleable__label {\n",
       "  /* unfitted */\n",
       "  background-color: var(--sklearn-color-unfitted-level-2);\n",
       "}\n",
       "\n",
       "#sk-container-id-1 div.sk-estimator.fitted input.sk-toggleable__control:checked~label.sk-toggleable__label {\n",
       "  /* fitted */\n",
       "  background-color: var(--sklearn-color-fitted-level-2);\n",
       "}\n",
       "\n",
       "#sk-container-id-1 div.sk-label label.sk-toggleable__label,\n",
       "#sk-container-id-1 div.sk-label label {\n",
       "  /* The background is the default theme color */\n",
       "  color: var(--sklearn-color-text-on-default-background);\n",
       "}\n",
       "\n",
       "/* On hover, darken the color of the background */\n",
       "#sk-container-id-1 div.sk-label:hover label.sk-toggleable__label {\n",
       "  color: var(--sklearn-color-text);\n",
       "  background-color: var(--sklearn-color-unfitted-level-2);\n",
       "}\n",
       "\n",
       "/* Label box, darken color on hover, fitted */\n",
       "#sk-container-id-1 div.sk-label.fitted:hover label.sk-toggleable__label.fitted {\n",
       "  color: var(--sklearn-color-text);\n",
       "  background-color: var(--sklearn-color-fitted-level-2);\n",
       "}\n",
       "\n",
       "/* Estimator label */\n",
       "\n",
       "#sk-container-id-1 div.sk-label label {\n",
       "  font-family: monospace;\n",
       "  font-weight: bold;\n",
       "  display: inline-block;\n",
       "  line-height: 1.2em;\n",
       "}\n",
       "\n",
       "#sk-container-id-1 div.sk-label-container {\n",
       "  text-align: center;\n",
       "}\n",
       "\n",
       "/* Estimator-specific */\n",
       "#sk-container-id-1 div.sk-estimator {\n",
       "  font-family: monospace;\n",
       "  border: 1px dotted var(--sklearn-color-border-box);\n",
       "  border-radius: 0.25em;\n",
       "  box-sizing: border-box;\n",
       "  margin-bottom: 0.5em;\n",
       "  /* unfitted */\n",
       "  background-color: var(--sklearn-color-unfitted-level-0);\n",
       "}\n",
       "\n",
       "#sk-container-id-1 div.sk-estimator.fitted {\n",
       "  /* fitted */\n",
       "  background-color: var(--sklearn-color-fitted-level-0);\n",
       "}\n",
       "\n",
       "/* on hover */\n",
       "#sk-container-id-1 div.sk-estimator:hover {\n",
       "  /* unfitted */\n",
       "  background-color: var(--sklearn-color-unfitted-level-2);\n",
       "}\n",
       "\n",
       "#sk-container-id-1 div.sk-estimator.fitted:hover {\n",
       "  /* fitted */\n",
       "  background-color: var(--sklearn-color-fitted-level-2);\n",
       "}\n",
       "\n",
       "/* Specification for estimator info (e.g. \"i\" and \"?\") */\n",
       "\n",
       "/* Common style for \"i\" and \"?\" */\n",
       "\n",
       ".sk-estimator-doc-link,\n",
       "a:link.sk-estimator-doc-link,\n",
       "a:visited.sk-estimator-doc-link {\n",
       "  float: right;\n",
       "  font-size: smaller;\n",
       "  line-height: 1em;\n",
       "  font-family: monospace;\n",
       "  background-color: var(--sklearn-color-background);\n",
       "  border-radius: 1em;\n",
       "  height: 1em;\n",
       "  width: 1em;\n",
       "  text-decoration: none !important;\n",
       "  margin-left: 1ex;\n",
       "  /* unfitted */\n",
       "  border: var(--sklearn-color-unfitted-level-1) 1pt solid;\n",
       "  color: var(--sklearn-color-unfitted-level-1);\n",
       "}\n",
       "\n",
       ".sk-estimator-doc-link.fitted,\n",
       "a:link.sk-estimator-doc-link.fitted,\n",
       "a:visited.sk-estimator-doc-link.fitted {\n",
       "  /* fitted */\n",
       "  border: var(--sklearn-color-fitted-level-1) 1pt solid;\n",
       "  color: var(--sklearn-color-fitted-level-1);\n",
       "}\n",
       "\n",
       "/* On hover */\n",
       "div.sk-estimator:hover .sk-estimator-doc-link:hover,\n",
       ".sk-estimator-doc-link:hover,\n",
       "div.sk-label-container:hover .sk-estimator-doc-link:hover,\n",
       ".sk-estimator-doc-link:hover {\n",
       "  /* unfitted */\n",
       "  background-color: var(--sklearn-color-unfitted-level-3);\n",
       "  color: var(--sklearn-color-background);\n",
       "  text-decoration: none;\n",
       "}\n",
       "\n",
       "div.sk-estimator.fitted:hover .sk-estimator-doc-link.fitted:hover,\n",
       ".sk-estimator-doc-link.fitted:hover,\n",
       "div.sk-label-container:hover .sk-estimator-doc-link.fitted:hover,\n",
       ".sk-estimator-doc-link.fitted:hover {\n",
       "  /* fitted */\n",
       "  background-color: var(--sklearn-color-fitted-level-3);\n",
       "  color: var(--sklearn-color-background);\n",
       "  text-decoration: none;\n",
       "}\n",
       "\n",
       "/* Span, style for the box shown on hovering the info icon */\n",
       ".sk-estimator-doc-link span {\n",
       "  display: none;\n",
       "  z-index: 9999;\n",
       "  position: relative;\n",
       "  font-weight: normal;\n",
       "  right: .2ex;\n",
       "  padding: .5ex;\n",
       "  margin: .5ex;\n",
       "  width: min-content;\n",
       "  min-width: 20ex;\n",
       "  max-width: 50ex;\n",
       "  color: var(--sklearn-color-text);\n",
       "  box-shadow: 2pt 2pt 4pt #999;\n",
       "  /* unfitted */\n",
       "  background: var(--sklearn-color-unfitted-level-0);\n",
       "  border: .5pt solid var(--sklearn-color-unfitted-level-3);\n",
       "}\n",
       "\n",
       ".sk-estimator-doc-link.fitted span {\n",
       "  /* fitted */\n",
       "  background: var(--sklearn-color-fitted-level-0);\n",
       "  border: var(--sklearn-color-fitted-level-3);\n",
       "}\n",
       "\n",
       ".sk-estimator-doc-link:hover span {\n",
       "  display: block;\n",
       "}\n",
       "\n",
       "/* \"?\"-specific style due to the `<a>` HTML tag */\n",
       "\n",
       "#sk-container-id-1 a.estimator_doc_link {\n",
       "  float: right;\n",
       "  font-size: 1rem;\n",
       "  line-height: 1em;\n",
       "  font-family: monospace;\n",
       "  background-color: var(--sklearn-color-background);\n",
       "  border-radius: 1rem;\n",
       "  height: 1rem;\n",
       "  width: 1rem;\n",
       "  text-decoration: none;\n",
       "  /* unfitted */\n",
       "  color: var(--sklearn-color-unfitted-level-1);\n",
       "  border: var(--sklearn-color-unfitted-level-1) 1pt solid;\n",
       "}\n",
       "\n",
       "#sk-container-id-1 a.estimator_doc_link.fitted {\n",
       "  /* fitted */\n",
       "  border: var(--sklearn-color-fitted-level-1) 1pt solid;\n",
       "  color: var(--sklearn-color-fitted-level-1);\n",
       "}\n",
       "\n",
       "/* On hover */\n",
       "#sk-container-id-1 a.estimator_doc_link:hover {\n",
       "  /* unfitted */\n",
       "  background-color: var(--sklearn-color-unfitted-level-3);\n",
       "  color: var(--sklearn-color-background);\n",
       "  text-decoration: none;\n",
       "}\n",
       "\n",
       "#sk-container-id-1 a.estimator_doc_link.fitted:hover {\n",
       "  /* fitted */\n",
       "  background-color: var(--sklearn-color-fitted-level-3);\n",
       "}\n",
       "</style><div id=\"sk-container-id-1\" class=\"sk-top-container\"><div class=\"sk-text-repr-fallback\"><pre>RandomForestRegressor()</pre><b>In a Jupyter environment, please rerun this cell to show the HTML representation or trust the notebook. <br />On GitHub, the HTML representation is unable to render, please try loading this page with nbviewer.org.</b></div><div class=\"sk-container\" hidden><div class=\"sk-item\"><div class=\"sk-estimator fitted sk-toggleable\"><input class=\"sk-toggleable__control sk-hidden--visually\" id=\"sk-estimator-id-1\" type=\"checkbox\" checked><label for=\"sk-estimator-id-1\" class=\"sk-toggleable__label fitted sk-toggleable__label-arrow fitted\">&nbsp;&nbsp;RandomForestRegressor<a class=\"sk-estimator-doc-link fitted\" rel=\"noreferrer\" target=\"_blank\" href=\"https://scikit-learn.org/1.4/modules/generated/sklearn.ensemble.RandomForestRegressor.html\">?<span>Documentation for RandomForestRegressor</span></a><span class=\"sk-estimator-doc-link fitted\">i<span>Fitted</span></span></label><div class=\"sk-toggleable__content fitted\"><pre>RandomForestRegressor()</pre></div> </div></div></div></div>"
      ],
      "text/plain": [
       "RandomForestRegressor()"
      ]
     },
     "execution_count": 34,
     "metadata": {},
     "output_type": "execute_result"
    }
   ],
   "source": [
    "load_model"
   ]
  },
  {
   "cell_type": "code",
   "execution_count": 35,
   "metadata": {},
   "outputs": [
    {
     "data": {
      "text/plain": [
       "array([ 12.07, 176.32])"
      ]
     },
     "execution_count": 35,
     "metadata": {},
     "output_type": "execute_result"
    }
   ],
   "source": [
    "load_model.predict(X_train[i:27,:])"
   ]
  },
  {
   "cell_type": "code",
   "execution_count": null,
   "metadata": {},
   "outputs": [],
   "source": []
  }
 ],
 "metadata": {
  "kernelspec": {
   "display_name": ".venv",
   "language": "python",
   "name": "python3"
  },
  "language_info": {
   "codemirror_mode": {
    "name": "ipython",
    "version": 3
   },
   "file_extension": ".py",
   "mimetype": "text/x-python",
   "name": "python",
   "nbconvert_exporter": "python",
   "pygments_lexer": "ipython3",
   "version": "3.11.8"
  }
 },
 "nbformat": 4,
 "nbformat_minor": 2
}
