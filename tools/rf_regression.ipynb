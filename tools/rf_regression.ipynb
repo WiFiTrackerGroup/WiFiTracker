{
 "cells": [
  {
   "cell_type": "markdown",
   "metadata": {},
   "source": [
    "# Random Forest Regression model to estimate the number of people in rooms "
   ]
  },
  {
   "cell_type": "code",
   "execution_count": 51,
   "metadata": {},
   "outputs": [],
   "source": [
    "import pandas as pd\n",
    "import numpy as np\n",
    "import os\n",
    "import re"
   ]
  },
  {
   "cell_type": "code",
   "execution_count": 52,
   "metadata": {},
   "outputs": [],
   "source": [
    "def room_division(dataRoom):\n",
    "    \"\"\"Divide entries on rooms, not on AP number\"\"\"\n",
    "    \n",
    "    Ap = \"AP-AULA\"\n",
    "    dataRoom = dataRoom[dataRoom[\"name_ap\"].notnull()]\n",
    "    dataRoom = dataRoom[dataRoom[\"name_ap\"].str.contains(Ap)]\n",
    "    rooms = pd.DataFrame()\n",
    "    max_l = max([len(sublist.split(\"-\")) for sublist in dataRoom[\"name_ap\"]])\n",
    "    if max_l == 2:\n",
    "        rooms[[\"AP\", \"Room\"]] = dataRoom[\"name_ap\"].str.split(\"-\", expand=True)\n",
    "    elif max_l == 3:\n",
    "        rooms[[\"AP\", \"Room\", \"APnum\"]] = dataRoom[\"name_ap\"].str.split(\"-\", expand=True)\n",
    "    elif max_l == 4:\n",
    "        rooms[[\"AP\", \"Room\", \"APnum\", \"NaN\"]] = dataRoom[\"name_ap\"].str.split(\n",
    "            \"-\", expand=True\n",
    "        )\n",
    "        rooms = rooms.drop([\"NaN\"], axis=1)\n",
    "    elif max_l == 5:\n",
    "        rooms[[\"AP\", \"Room\", \"APnum\", \"NaN\", \"other\"]] = dataRoom[\"name_ap\"].str.split(\n",
    "            \"-\", expand=True\n",
    "        )\n",
    "        rooms = rooms.drop([\"NaN\", \"other\"])\n",
    "    else:\n",
    "        raise Exception(\"Error in dataRoom['name_ap'].str.split('-', expand=True)\")\n",
    "\n",
    "    dataRoom = pd.concat([dataRoom, rooms], axis=1)\n",
    "    dataRoom = dataRoom.drop([\"AP\"], axis=1)\n",
    "    return dataRoom"
   ]
  },
  {
   "cell_type": "markdown",
   "metadata": {},
   "source": [
    "Extract the features from the dataset"
   ]
  },
  {
   "cell_type": "code",
   "execution_count": 53,
   "metadata": {},
   "outputs": [],
   "source": [
    "dataset_dict = {\n",
    "    \"aula\": [],\n",
    "    \"n_devices\": [],\n",
    "    \"n_users\": [],\n",
    "    \"snr_mean\": [],\n",
    "    \"snr_std\": [],\n",
    "    \"rssi_mean\": [],\n",
    "    \"rssi_std\": [],\n",
    "    \"ch_util_2_4_mean\": [],\n",
    "    \"ch_util_5_mean\": [],\n",
    "    \"noise_2_4_mean\": [],\n",
    "    \"noise_5_mean\": [],\n",
    "    \"n_people\": []\n",
    "}\n",
    "\n",
    "path = \"../data/ml_data/\"\n",
    "regex_aula = \"(AULA.+)_\"\n",
    "regex_n_people = \"_([0-9]+)\\.\"\n",
    "\n",
    "\n",
    "for i, file in enumerate(os.listdir(path)):\n",
    "    df = pd.read_csv(path + file)\n",
    "    df.drop(columns=[\"Unnamed: 0\", \"Timestamp_y\", \"ch_2_4\", \"ch_5\", \"class\", \"domain\", \"client_type\", \"code_ap\"], inplace=True)\n",
    "    df = room_division(df)\n",
    "\n",
    "    aula = re.search(regex_aula, file).group(1)\n",
    "    df_aula = df[df[\"Room\"] == aula]\n",
    "\n",
    "    if len(df_aula) == 0:\n",
    "        print(f\"{aula} is empty. Skipping the acquisition!\")\n",
    "        continue\n",
    "    dataset_dict[\"aula\"].append(aula)\n",
    "\n",
    "    # Feature extrapolation\n",
    "    df_dist_ap = df_aula.drop_duplicates(subset=\"APnum\")\n",
    "    n_devices = df_dist_ap[\"n_clients_2_4\"].sum() + df_dist_ap[\"n_clients_5\"].sum()\n",
    "    dataset_dict[\"n_devices\"].append(n_devices)\n",
    "\n",
    "    df_dist_users = df_aula.drop_duplicates(subset=\"user_masked\")\n",
    "    n_users = len(df_dist_users[df_dist_users[\"snr\"] > 20])\n",
    "    dataset_dict[\"n_users\"].append(n_users)\n",
    "\n",
    "    snr_mean = df_aula[\"snr\"].mean()\n",
    "    dataset_dict[\"snr_mean\"].append(snr_mean)\n",
    "    snr_std = df_aula[\"snr\"].std()\n",
    "    dataset_dict[\"snr_std\"].append(snr_std)\n",
    "\n",
    "    rssi_mean = df_aula[\"rssi\"].mean()\n",
    "    dataset_dict[\"rssi_mean\"].append(rssi_mean)\n",
    "    rssi_std = df_aula[\"rssi\"].std()\n",
    "    dataset_dict[\"rssi_std\"].append(rssi_std)\n",
    "\n",
    "    ch_util_2_4_mean = df_dist_ap[\"ch_utilization_2_4\"].mean()\n",
    "    dataset_dict[\"ch_util_2_4_mean\"].append(ch_util_2_4_mean)\n",
    "    ch_util_5_mean = df_dist_ap[\"ch_utilization_5\"].mean()\n",
    "    dataset_dict[\"ch_util_5_mean\"].append(ch_util_5_mean)\n",
    "\n",
    "    noise_2_4_mean = df_dist_ap[\"noise_2_4\"].mean()\n",
    "    dataset_dict[\"noise_2_4_mean\"].append(noise_2_4_mean)\n",
    "    noise_5_mean = df_dist_ap[\"noise_5\"].mean()\n",
    "    dataset_dict[\"noise_5_mean\"].append(noise_5_mean)\n",
    "\n",
    "\n",
    "    x = re.search(regex_n_people, file)\n",
    "    n_people = int(x.group(1))\n",
    "    dataset_dict[\"n_people\"].append(n_people)"
   ]
  },
  {
   "cell_type": "code",
   "execution_count": 54,
   "metadata": {},
   "outputs": [
    {
     "data": {
      "text/html": [
       "<div>\n",
       "<style scoped>\n",
       "    .dataframe tbody tr th:only-of-type {\n",
       "        vertical-align: middle;\n",
       "    }\n",
       "\n",
       "    .dataframe tbody tr th {\n",
       "        vertical-align: top;\n",
       "    }\n",
       "\n",
       "    .dataframe thead th {\n",
       "        text-align: right;\n",
       "    }\n",
       "</style>\n",
       "<table border=\"1\" class=\"dataframe\">\n",
       "  <thead>\n",
       "    <tr style=\"text-align: right;\">\n",
       "      <th></th>\n",
       "      <th>aula</th>\n",
       "      <th>n_devices</th>\n",
       "      <th>n_users</th>\n",
       "      <th>snr_mean</th>\n",
       "      <th>snr_std</th>\n",
       "      <th>rssi_mean</th>\n",
       "      <th>rssi_std</th>\n",
       "      <th>ch_util_2_4_mean</th>\n",
       "      <th>ch_util_5_mean</th>\n",
       "      <th>noise_2_4_mean</th>\n",
       "      <th>noise_5_mean</th>\n",
       "      <th>n_people</th>\n",
       "    </tr>\n",
       "  </thead>\n",
       "  <tbody>\n",
       "    <tr>\n",
       "      <th>0</th>\n",
       "      <td>AULA3I</td>\n",
       "      <td>3.0</td>\n",
       "      <td>2</td>\n",
       "      <td>34.000000</td>\n",
       "      <td>5.567764</td>\n",
       "      <td>-57.666667</td>\n",
       "      <td>5.507571</td>\n",
       "      <td>11.666667</td>\n",
       "      <td>15.000000</td>\n",
       "      <td>-90.333333</td>\n",
       "      <td>-90.333333</td>\n",
       "      <td>2</td>\n",
       "    </tr>\n",
       "    <tr>\n",
       "      <th>1</th>\n",
       "      <td>AULA7S</td>\n",
       "      <td>123.0</td>\n",
       "      <td>84</td>\n",
       "      <td>42.611570</td>\n",
       "      <td>7.513734</td>\n",
       "      <td>-51.115702</td>\n",
       "      <td>6.344538</td>\n",
       "      <td>38.333333</td>\n",
       "      <td>8.333333</td>\n",
       "      <td>-86.500000</td>\n",
       "      <td>-93.666667</td>\n",
       "      <td>127</td>\n",
       "    </tr>\n",
       "    <tr>\n",
       "      <th>2</th>\n",
       "      <td>AULA3P</td>\n",
       "      <td>122.0</td>\n",
       "      <td>87</td>\n",
       "      <td>40.188034</td>\n",
       "      <td>6.497920</td>\n",
       "      <td>-51.393162</td>\n",
       "      <td>5.997064</td>\n",
       "      <td>32.500000</td>\n",
       "      <td>27.500000</td>\n",
       "      <td>-84.500000</td>\n",
       "      <td>-92.250000</td>\n",
       "      <td>111</td>\n",
       "    </tr>\n",
       "    <tr>\n",
       "      <th>3</th>\n",
       "      <td>AULAR2</td>\n",
       "      <td>183.0</td>\n",
       "      <td>112</td>\n",
       "      <td>36.335196</td>\n",
       "      <td>7.321620</td>\n",
       "      <td>-53.027933</td>\n",
       "      <td>6.093310</td>\n",
       "      <td>37.750000</td>\n",
       "      <td>5.500000</td>\n",
       "      <td>-81.000000</td>\n",
       "      <td>-90.500000</td>\n",
       "      <td>150</td>\n",
       "    </tr>\n",
       "    <tr>\n",
       "      <th>4</th>\n",
       "      <td>AULA3I</td>\n",
       "      <td>6.0</td>\n",
       "      <td>4</td>\n",
       "      <td>34.800000</td>\n",
       "      <td>4.438468</td>\n",
       "      <td>-57.400000</td>\n",
       "      <td>4.449719</td>\n",
       "      <td>15.333333</td>\n",
       "      <td>5.333333</td>\n",
       "      <td>-93.666667</td>\n",
       "      <td>-89.666667</td>\n",
       "      <td>3</td>\n",
       "    </tr>\n",
       "  </tbody>\n",
       "</table>\n",
       "</div>"
      ],
      "text/plain": [
       "     aula  n_devices  n_users   snr_mean   snr_std  rssi_mean  rssi_std  \\\n",
       "0  AULA3I        3.0        2  34.000000  5.567764 -57.666667  5.507571   \n",
       "1  AULA7S      123.0       84  42.611570  7.513734 -51.115702  6.344538   \n",
       "2  AULA3P      122.0       87  40.188034  6.497920 -51.393162  5.997064   \n",
       "3  AULAR2      183.0      112  36.335196  7.321620 -53.027933  6.093310   \n",
       "4  AULA3I        6.0        4  34.800000  4.438468 -57.400000  4.449719   \n",
       "\n",
       "   ch_util_2_4_mean  ch_util_5_mean  noise_2_4_mean  noise_5_mean  n_people  \n",
       "0         11.666667       15.000000      -90.333333    -90.333333         2  \n",
       "1         38.333333        8.333333      -86.500000    -93.666667       127  \n",
       "2         32.500000       27.500000      -84.500000    -92.250000       111  \n",
       "3         37.750000        5.500000      -81.000000    -90.500000       150  \n",
       "4         15.333333        5.333333      -93.666667    -89.666667         3  "
      ]
     },
     "execution_count": 54,
     "metadata": {},
     "output_type": "execute_result"
    }
   ],
   "source": [
    "dataset = pd.DataFrame.from_dict(dataset_dict)\n",
    "dataset.head()"
   ]
  },
  {
   "cell_type": "markdown",
   "metadata": {},
   "source": [
    "Divide regressor and regressand"
   ]
  },
  {
   "cell_type": "code",
   "execution_count": 55,
   "metadata": {},
   "outputs": [],
   "source": [
    "y = dataset[\"n_people\"].to_numpy()\n",
    "dataset.drop([\"aula\", \"n_people\"], axis=1, inplace=True)\n",
    "X = dataset.to_numpy()"
   ]
  },
  {
   "cell_type": "markdown",
   "metadata": {},
   "source": [
    "Division of train and test sets"
   ]
  },
  {
   "cell_type": "code",
   "execution_count": 56,
   "metadata": {},
   "outputs": [],
   "source": [
    "from sklearn.model_selection import train_test_split"
   ]
  },
  {
   "cell_type": "code",
   "execution_count": 57,
   "metadata": {},
   "outputs": [
    {
     "name": "stdout",
     "output_type": "stream",
     "text": [
      "Train shape:  (61, 10)\n",
      "Test shape:  (7, 10)\n"
     ]
    }
   ],
   "source": [
    "test_size = 0.1\n",
    "X_train, X_test, y_train, y_test = train_test_split(X, y, test_size=test_size)\n",
    "print(\"Train shape: \", X_train.shape)\n",
    "print(\"Test shape: \", X_test.shape)"
   ]
  },
  {
   "cell_type": "code",
   "execution_count": 58,
   "metadata": {},
   "outputs": [
    {
     "data": {
      "image/png": "[encoded data removed]",
      "text/plain": [
       "<Figure size 640x480 with 1 Axes>"
      ]
     },
     "metadata": {},
     "output_type": "display_data"
    }
   ],
   "source": [
    "import matplotlib.pyplot as plt\n",
    "plt.title(\"Distribution of the number of people in the training set\")\n",
    "plt.hist(y_train, bins=20)\n",
    "plt.xlabel(\"Number of people\")\n",
    "plt.grid()"
   ]
  },
  {
   "cell_type": "markdown",
   "metadata": {},
   "source": [
    "### Random Forest Regressor"
   ]
  },
  {
   "cell_type": "code",
   "execution_count": 59,
   "metadata": {},
   "outputs": [],
   "source": [
    "from sklearn.ensemble import RandomForestRegressor\n",
    "from sklearn.model_selection import cross_val_score, ShuffleSplit"
   ]
  },
  {
   "cell_type": "code",
   "execution_count": 60,
   "metadata": {},
   "outputs": [],
   "source": [
    "rf_regr = RandomForestRegressor()\n",
    "fitted_rf = rf_regr.fit(X_train,y_train)"
   ]
  },
  {
   "cell_type": "code",
   "execution_count": 61,
   "metadata": {},
   "outputs": [],
   "source": [
    "cv = ShuffleSplit(n_splits=3, test_size=test_size)\n",
    "scores = cross_val_score(rf_regr, X, y, cv=cv)"
   ]
  },
  {
   "cell_type": "code",
   "execution_count": 62,
   "metadata": {},
   "outputs": [
    {
     "name": "stdout",
     "output_type": "stream",
     "text": [
      "Cross validation\n",
      "R2 score:  [0.80804404 0.86614022 0.96370152]\n"
     ]
    }
   ],
   "source": [
    "print(\"Cross validation\\nR2 score: \", scores)"
   ]
  },
  {
   "cell_type": "code",
   "execution_count": 63,
   "metadata": {},
   "outputs": [
    {
     "name": "stdout",
     "output_type": "stream",
     "text": [
      "R2 train:  0.9629134869333356\n",
      "R2 test:  0.9462389424047142\n",
      "MAE train: 5.670000000000001\n",
      "MAE test: 10.652857142857146\n",
      "RMSE train: 10.250865057458785\n",
      "RMSE test: 12.771149965002039\n"
     ]
    }
   ],
   "source": [
    "from sklearn.metrics import mean_absolute_error, root_mean_squared_error\n",
    "print(\"R2 train: \", fitted_rf.score(X_train, y_train))\n",
    "print(\"R2 test: \", fitted_rf.score(X_test, y_test))\n",
    "print(\"MAE train:\", mean_absolute_error(fitted_rf.predict(X_train), y_train))\n",
    "print(\"MAE test:\", mean_absolute_error(fitted_rf.predict(X_test), y_test))\n",
    "print(\"RMSE train:\", root_mean_squared_error(fitted_rf.predict(X_train), y_train))\n",
    "print(\"RMSE test:\", root_mean_squared_error(fitted_rf.predict(X_test), y_test))"
   ]
  },
  {
   "cell_type": "code",
   "execution_count": 64,
   "metadata": {},
   "outputs": [
    {
     "data": {
      "image/png": "[encoded data removed]",
      "text/plain": [
       "<Figure size 640x480 with 1 Axes>"
      ]
     },
     "metadata": {},
     "output_type": "display_data"
    }
   ],
   "source": [
    "import matplotlib.pyplot as plt\n",
    "plt.scatter(y_test, fitted_rf.predict(X_test))\n",
    "plt.grid()\n",
    "plt.ylabel('Actual num of people')\n",
    "plt.xlabel('Predicted num of people')\n",
    "plt.title('Actual vs Predicted number of people')\n",
    "plt.show()"
   ]
  },
  {
   "cell_type": "code",
   "execution_count": 65,
   "metadata": {},
   "outputs": [
    {
     "data": {
      "image/png": "[encoded data removed]",
      "text/plain": [
       "<Figure size 640x480 with 1 Axes>"
      ]
     },
     "metadata": {},
     "output_type": "display_data"
    }
   ],
   "source": [
    "residuals = y_test - fitted_rf.predict(X_test)\n",
    "plt.scatter(fitted_rf.predict(X_test), residuals)\n",
    "plt.grid()\n",
    "plt.xlabel('Predicted num of people')\n",
    "plt.ylabel('Residuals')\n",
    "plt.title('Residual Plot')\n",
    "plt.axhline(y=0, color='r', linestyle='--')\n",
    "plt.show()"
   ]
  },
  {
   "cell_type": "markdown",
   "metadata": {},
   "source": [
    "Save the model"
   ]
  },
  {
   "cell_type": "code",
   "execution_count": null,
   "metadata": {},
   "outputs": [],
   "source": [
    "import pickle\n",
    "model_path = \"\"\n",
    "pickle.dump(fitted_rf, open(model_path, 'wb'))"
   ]
  }
 ],
 "metadata": {
  "kernelspec": {
   "display_name": ".venv",
   "language": "python",
   "name": "python3"
  },
  "language_info": {
   "codemirror_mode": {
    "name": "ipython",
    "version": 3
   },
   "file_extension": ".py",
   "mimetype": "text/x-python",
   "name": "python",
   "nbconvert_exporter": "python",
   "pygments_lexer": "ipython3",
   "version": "3.11.8"
  }
 },
 "nbformat": 4,
 "nbformat_minor": 2
}
